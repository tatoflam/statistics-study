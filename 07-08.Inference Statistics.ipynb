{
 "cells": [
  {
   "cell_type": "markdown",
   "id": "2b43b9e3-e690-43bb-93b7-e35d63ecb00f",
   "metadata": {},
   "source": [
    "# 推測統計"
   ]
  },
  {
   "cell_type": "markdown",
   "id": "6632d10a-4fce-476f-a8ec-995ba4e0b992",
   "metadata": {},
   "source": [
    "## Section 7 推測統計入門\n",
    "\n",
    "### 標本分布\n",
    "\n",
    "- 標本の中身は確率的に変動する\n",
    "- 標本統計量も確率的に変動する値（確率変数）である\n",
    "- 標本統計量が従う確率分布を標本分布と呼ぶ。\n",
    "\n",
    "### 標本平均\n",
    "- 標本から取得した平均を標本平均という\n",
    "- 標本平均をどの程度の確率で得られるのかは、「平均の標本分布」に従う。\n",
    "  - 標本分布は、理論上の分布\n",
    "  - 「平均の標本分布」（母集団からどのくらいの確率で、その標本平均が得られるのか）であって、「ある標本の中の分布」ではない。\n",
    "  \n",
    "### 推定量(Estimator)\n",
    "\n",
    "|母数|推定量||\n",
    "|---|-----|----|\n",
    "|母平均値$\\mu$|標本平均値 $\\bar{x}$|不偏推定量|\n",
    "|母比率$\\pi$|標本比率$p$|不偏推定量|\n",
    "|母相関係数$p$|標本相関係数$r$||\n",
    "|母分散$\\sigma^2$|**不偏分散 $s^{'2}$**|不偏推定量|\n",
    "|母標準偏差$\\sigma$|**不偏分散の平方根 $s^{'}$**||\n",
    "\n",
    "標本分散や標本標準偏差は、母分散や母標準偏差の推定量には使えない（不偏性がないため）\n",
    "\n",
    "### 不偏性(unbiasedness)\n",
    "- 推定量が平均的に母数と一致する場合、その推定量は「不偏性がある」\n",
    "- 大量の標本をとって標本平均を計算したら、その標本平均の平均は母平均\n",
    "\n",
    "### 平均の標本分布について\n",
    "- 母集団から n個の標本を無限回取得した場合、\n",
    "  - 「平均の標本分布の平均」は、母平均と同じ $\\mu$ になる\n",
    "  - 「平均の標本分布の分散」は、母分散を n で割った値 $\\frac{\\sigma^2}{n}$"
   ]
  },
  {
   "cell_type": "code",
   "execution_count": 19,
   "id": "0d5b351d-4b42-44dc-a718-312e870ae641",
   "metadata": {},
   "outputs": [],
   "source": [
    "import numpy as np\n",
    "import pandas as pd\n",
    "import seaborn as sns\n",
    "from scipy import stats\n",
    "import matplotlib.pyplot as plt\n",
    "%matplotlib inline"
   ]
  },
  {
   "cell_type": "code",
   "execution_count": 4,
   "id": "502cb140-82cf-47b7-80a4-b83a8e318511",
   "metadata": {},
   "outputs": [
    {
     "data": {
      "text/html": [
       "<div>\n",
       "<style scoped>\n",
       "    .dataframe tbody tr th:only-of-type {\n",
       "        vertical-align: middle;\n",
       "    }\n",
       "\n",
       "    .dataframe tbody tr th {\n",
       "        vertical-align: top;\n",
       "    }\n",
       "\n",
       "    .dataframe thead th {\n",
       "        text-align: right;\n",
       "    }\n",
       "</style>\n",
       "<table border=\"1\" class=\"dataframe\">\n",
       "  <thead>\n",
       "    <tr style=\"text-align: right;\">\n",
       "      <th></th>\n",
       "      <th>total_bill</th>\n",
       "      <th>tip</th>\n",
       "      <th>sex</th>\n",
       "      <th>smoker</th>\n",
       "      <th>day</th>\n",
       "      <th>time</th>\n",
       "      <th>size</th>\n",
       "      <th>tip_rate</th>\n",
       "    </tr>\n",
       "  </thead>\n",
       "  <tbody>\n",
       "    <tr>\n",
       "      <th>0</th>\n",
       "      <td>16.99</td>\n",
       "      <td>1.01</td>\n",
       "      <td>Female</td>\n",
       "      <td>No</td>\n",
       "      <td>Sun</td>\n",
       "      <td>Dinner</td>\n",
       "      <td>2</td>\n",
       "      <td>0.059447</td>\n",
       "    </tr>\n",
       "    <tr>\n",
       "      <th>1</th>\n",
       "      <td>10.34</td>\n",
       "      <td>1.66</td>\n",
       "      <td>Male</td>\n",
       "      <td>No</td>\n",
       "      <td>Sun</td>\n",
       "      <td>Dinner</td>\n",
       "      <td>3</td>\n",
       "      <td>0.160542</td>\n",
       "    </tr>\n",
       "    <tr>\n",
       "      <th>2</th>\n",
       "      <td>21.01</td>\n",
       "      <td>3.50</td>\n",
       "      <td>Male</td>\n",
       "      <td>No</td>\n",
       "      <td>Sun</td>\n",
       "      <td>Dinner</td>\n",
       "      <td>3</td>\n",
       "      <td>0.166587</td>\n",
       "    </tr>\n",
       "    <tr>\n",
       "      <th>3</th>\n",
       "      <td>23.68</td>\n",
       "      <td>3.31</td>\n",
       "      <td>Male</td>\n",
       "      <td>No</td>\n",
       "      <td>Sun</td>\n",
       "      <td>Dinner</td>\n",
       "      <td>2</td>\n",
       "      <td>0.139780</td>\n",
       "    </tr>\n",
       "    <tr>\n",
       "      <th>4</th>\n",
       "      <td>24.59</td>\n",
       "      <td>3.61</td>\n",
       "      <td>Female</td>\n",
       "      <td>No</td>\n",
       "      <td>Sun</td>\n",
       "      <td>Dinner</td>\n",
       "      <td>4</td>\n",
       "      <td>0.146808</td>\n",
       "    </tr>\n",
       "  </tbody>\n",
       "</table>\n",
       "</div>"
      ],
      "text/plain": [
       "   total_bill   tip     sex smoker  day    time  size  tip_rate\n",
       "0       16.99  1.01  Female     No  Sun  Dinner     2  0.059447\n",
       "1       10.34  1.66    Male     No  Sun  Dinner     3  0.160542\n",
       "2       21.01  3.50    Male     No  Sun  Dinner     3  0.166587\n",
       "3       23.68  3.31    Male     No  Sun  Dinner     2  0.139780\n",
       "4       24.59  3.61  Female     No  Sun  Dinner     4  0.146808"
      ]
     },
     "execution_count": 4,
     "metadata": {},
     "output_type": "execute_result"
    }
   ],
   "source": [
    "df = sns.load_dataset('tips')\n",
    "df['tip_rate'] = df['tip']/df['total_bill']\n",
    "df.head()"
   ]
  },
  {
   "cell_type": "code",
   "execution_count": 11,
   "id": "02a21a60-35ec-4d2a-ad74-8d00ba7e9170",
   "metadata": {},
   "outputs": [],
   "source": [
    "m = 100\n",
    "n = 50\n",
    "column = 'tip'\n",
    "sample_means = []\n",
    "sample_vars = []\n",
    "for i in range(100):\n",
    "    x = df.sample(n)[column]\n",
    "    sample_means.append(x.mean())"
   ]
  },
  {
   "cell_type": "code",
   "execution_count": 12,
   "id": "1d60f887-5bbf-4378-bded-4c7c07346d04",
   "metadata": {},
   "outputs": [
    {
     "data": {
      "text/plain": [
       "<seaborn.axisgrid.FacetGrid at 0x4050944460>"
      ]
     },
     "execution_count": 12,
     "metadata": {},
     "output_type": "execute_result"
    },
    {
     "data": {
      "image/png": "[encoded data removed]",
      "text/plain": [
       "<Figure size 360x360 with 1 Axes>"
      ]
     },
     "metadata": {
      "needs_background": "light"
     },
     "output_type": "display_data"
    }
   ],
   "source": [
    "sns.displot(sample_means)"
   ]
  },
  {
   "cell_type": "code",
   "execution_count": 15,
   "id": "82adf932-d98e-4560-a942-0b141ad6e8ca",
   "metadata": {},
   "outputs": [
    {
     "data": {
      "text/plain": [
       "3.008144"
      ]
     },
     "execution_count": 15,
     "metadata": {},
     "output_type": "execute_result"
    }
   ],
   "source": [
    "# 標本平均の平均\n",
    "np.mean(sample_means)"
   ]
  },
  {
   "cell_type": "code",
   "execution_count": 14,
   "id": "405ebd06-3648-4108-b8c0-2735d6e898ce",
   "metadata": {},
   "outputs": [
    {
     "data": {
      "text/plain": [
       "2.9982786885245902"
      ]
     },
     "execution_count": 14,
     "metadata": {},
     "output_type": "execute_result"
    }
   ],
   "source": [
    "# 母平均\n",
    "df[column].mean()"
   ]
  },
  {
   "cell_type": "code",
   "execution_count": 16,
   "id": "3946c779-3143-43ab-b75e-3fda4b36c997",
   "metadata": {},
   "outputs": [
    {
     "data": {
      "text/plain": [
       "0.023131109664000008"
      ]
     },
     "execution_count": 16,
     "metadata": {},
     "output_type": "execute_result"
    }
   ],
   "source": [
    "# 標本平均の分散\n",
    "np.var(sample_means)"
   ]
  },
  {
   "cell_type": "code",
   "execution_count": 18,
   "id": "e384fef4-c345-4700-bbc5-e233ef845045",
   "metadata": {},
   "outputs": [
    {
     "data": {
      "text/plain": [
       "0.03813217024993285"
      ]
     },
     "execution_count": 18,
     "metadata": {},
     "output_type": "execute_result"
    }
   ],
   "source": [
    "# 母分散/n ← 外れ値の影響が出る\n",
    "np.var(df[column])/n"
   ]
  },
  {
   "cell_type": "markdown",
   "id": "8d1b9c71-efc4-4be9-9d69-613da34c7be9",
   "metadata": {},
   "source": [
    "### 不偏分散 (unbiased variance)\n",
    "\n",
    "- 母分散の不偏推定量\n",
    "- $s^{'2}= \\frac{1}{n-1}\\sum_{i=1}^n(x_i-\\bar{x})^2$\n",
    "  - 不偏分散の標本分布の平均は、母分散（$\\sigma^2$）に一致する\n",
    "- 標本平均を使って分散を計算すると、母平均を使う場合よりも値が小さくなってしまうため、分散を過小評価してしまう。\n",
    "- これに対して、n/(n-1)をかけることで補正している\n",
    "\n",
    "### 不偏分散の平方根の普遍性\n",
    "\n",
    "- 不偏分散の平方根は、推定量としては使える。が、不偏性はない。\n",
    "- 不偏分散の平方根を不偏標準偏差と呼ぶのは間違い。あくまでも「不偏分散の平方根」\n",
    "- $s'= \\sqrt{\\frac{1}{n-1}\\sum_{i=1}^n(x_i-\\bar{x})^2}$"
   ]
  },
  {
   "cell_type": "code",
   "execution_count": 20,
   "id": "36c1a784-88d9-4f0e-9c18-96a6910ccd11",
   "metadata": {},
   "outputs": [],
   "source": [
    "## delta degree of freedum (ddof: 自由度)\n",
    "\n",
    "# 不偏分散\n",
    "# stats.tvar(a)\n",
    "# np.var(a, ddof=1)\n",
    "\n",
    "# 不偏分散の平方根\n",
    "# stats.tstd(a)\n",
    "# np.std(a, ddof=1)"
   ]
  },
  {
   "cell_type": "code",
   "execution_count": 21,
   "id": "254c48c1-5946-4c60-83d7-425c0a20fdfa",
   "metadata": {},
   "outputs": [
    {
     "data": {
      "text/plain": [
       "1.914454638062471"
      ]
     },
     "execution_count": 21,
     "metadata": {},
     "output_type": "execute_result"
    }
   ],
   "source": [
    "stats.tvar(df['tip'])"
   ]
  },
  {
   "cell_type": "code",
   "execution_count": 22,
   "id": "b883eef4-946b-4625-874e-27309772a91d",
   "metadata": {},
   "outputs": [
    {
     "data": {
      "text/plain": [
       "1.9144546380624725"
      ]
     },
     "execution_count": 22,
     "metadata": {},
     "output_type": "execute_result"
    }
   ],
   "source": [
    "np.var(df['tip'], ddof=1)"
   ]
  },
  {
   "cell_type": "code",
   "execution_count": 23,
   "id": "a252b692-0fdd-442f-b6b7-c7e3d57c0f68",
   "metadata": {},
   "outputs": [
    {
     "data": {
      "text/plain": [
       "1.3836381890011822"
      ]
     },
     "execution_count": 23,
     "metadata": {},
     "output_type": "execute_result"
    }
   ],
   "source": [
    "np.sqrt(stats.tvar(df['tip']))"
   ]
  },
  {
   "cell_type": "code",
   "execution_count": 24,
   "id": "e5f5eac0-59ff-4a02-9f12-76d9f76ed2fa",
   "metadata": {},
   "outputs": [
    {
     "data": {
      "text/plain": [
       "1.3836381890011822"
      ]
     },
     "execution_count": 24,
     "metadata": {},
     "output_type": "execute_result"
    }
   ],
   "source": [
    "stats.tstd(df['tip'])"
   ]
  },
  {
   "cell_type": "code",
   "execution_count": 25,
   "id": "db147e3c-45f2-42c5-b5a7-8d245cac0d16",
   "metadata": {},
   "outputs": [
    {
     "data": {
      "text/plain": [
       "1.3836381890011826"
      ]
     },
     "execution_count": 25,
     "metadata": {},
     "output_type": "execute_result"
    }
   ],
   "source": [
    "np.std(df['tip'], ddof=1)"
   ]
  },
  {
   "cell_type": "code",
   "execution_count": 67,
   "id": "117355f0-5ea6-40d8-b2ca-df5315ccb517",
   "metadata": {},
   "outputs": [],
   "source": [
    "m = 1000\n",
    "n = 100\n",
    "column = 'tip'\n",
    "sample_vars = []\n",
    "sample_unbiased_vars = []\n",
    "for i in range(m):\n",
    "    x = df.sample(n)[column]\n",
    "    sample_vars.append(np.var(x))\n",
    "    sample_unbiased_vars.append(stats.tvar(x))"
   ]
  },
  {
   "cell_type": "code",
   "execution_count": 68,
   "id": "39424f01-fc97-4b9e-8591-4085a4caddae",
   "metadata": {},
   "outputs": [
    {
     "data": {
      "text/plain": [
       "1.8777315170900002"
      ]
     },
     "execution_count": 68,
     "metadata": {},
     "output_type": "execute_result"
    }
   ],
   "source": [
    "# 標本の分散の平均\n",
    "np.mean(sample_vars)"
   ]
  },
  {
   "cell_type": "code",
   "execution_count": 69,
   "id": "92bd00ee-2740-4182-9859-9c0596429e0b",
   "metadata": {},
   "outputs": [
    {
     "data": {
      "text/plain": [
       "1.8966985021111111"
      ]
     },
     "execution_count": 69,
     "metadata": {},
     "output_type": "execute_result"
    }
   ],
   "source": [
    "# 標本の不偏分散の平均\n",
    "np.mean(sample_unbiased_vars)"
   ]
  },
  {
   "cell_type": "code",
   "execution_count": 70,
   "id": "0966b6c0-68f4-43a6-aa87-9ce8334cc723",
   "metadata": {},
   "outputs": [
    {
     "data": {
      "text/plain": [
       "1.9066085124966428"
      ]
     },
     "execution_count": 70,
     "metadata": {},
     "output_type": "execute_result"
    }
   ],
   "source": [
    "# 母集団の分散 (母分散)\n",
    "np.var(df['tip'])"
   ]
  },
  {
   "cell_type": "code",
   "execution_count": 48,
   "id": "addc13bd-16de-4d07-b041-dc9733bded22",
   "metadata": {},
   "outputs": [
    {
     "name": "stderr",
     "output_type": "stream",
     "text": [
      "/opt/anaconda3/lib/python3.8/site-packages/seaborn/distributions.py:2557: FutureWarning: `distplot` is a deprecated function and will be removed in a future version. Please adapt your code to use either `displot` (a figure-level function with similar flexibility) or `histplot` (an axes-level function for histograms).\n",
      "  warnings.warn(msg, FutureWarning)\n",
      "/opt/anaconda3/lib/python3.8/site-packages/seaborn/distributions.py:2557: FutureWarning: `distplot` is a deprecated function and will be removed in a future version. Please adapt your code to use either `displot` (a figure-level function with similar flexibility) or `histplot` (an axes-level function for histograms).\n",
      "  warnings.warn(msg, FutureWarning)\n"
     ]
    },
    {
     "data": {
      "text/plain": [
       "<AxesSubplot:ylabel='Density'>"
      ]
     },
     "execution_count": 48,
     "metadata": {},
     "output_type": "execute_result"
    },
    {
     "data": {
      "image/png": "[encoded data removed]",
      "text/plain": [
       "<Figure size 432x288 with 1 Axes>"
      ]
     },
     "metadata": {
      "needs_background": "light"
     },
     "output_type": "display_data"
    }
   ],
   "source": [
    "sns.distplot(sample_vars, label=\"Vars\")\n",
    "sns.distplot(sample_unbiased_vars, label=\"Unbiased Vars\")"
   ]
  },
  {
   "cell_type": "markdown",
   "id": "24b0a733-ad35-4ead-aa12-22df7485c2d5",
   "metadata": {},
   "source": [
    "## Section 8 区間推定\n",
    "\n",
    "- 点推定\n",
    "- 区間推定\n",
    "  - 母数の値を区間を持って推定する\n",
    "    - 95%の確度で母比率は0.5-0.7である\n",
    "    - この区間を信頼区間(CI: confidence interval)という (e.g.95%信頼区間で母比率は0.5-0.7である）\n",
    "  - 95%信頼区間とは、100回に5回は間違える、という意味。「95%の確率で母数がこの区間にある」というのは厳密には間違い。真の母数は必ず１つ決まっているため"
   ]
  },
  {
   "cell_type": "markdown",
   "id": "ae471ec9-d6dc-4603-92f9-4cdcd98d8fd1",
   "metadata": {},
   "source": [
    "### どうやって区間推定するか\n",
    "\n",
    "- 標本分布 (e.g. 当選確率60%)は、どの程度の確率でいえるか\n",
    "- 比率の標本分布は二項分布から考えることができる\n",
    "- 「標本の支持者の数」の標本分布は、二項分布になる\n",
    "  - 二項分布はnが十分に大きいとき、正規分布に近似できる\n",
    "\n"
   ]
  },
  {
   "cell_type": "markdown",
   "id": "fb15d38b-7335-49f0-b858-7e750b9904bc",
   "metadata": {},
   "source": [
    "### 比率の標本分布\n",
    "\n",
    "内閣支持率を調査する。\n",
    "\n",
    "- 支持者xの標本分布(二項分布に従う)の平均は=npの時、標準偏差=$\\sqrt{npq}$\n",
    "- 支持率 $\\frac{x}{n}$の標本分布は、nが十分大きければ)比率の標本分布は平均p, 分散 $\\frac{pq}{n}$ の正規分布になる\n"
   ]
  },
  {
   "cell_type": "markdown",
   "id": "b477020d-3fd3-4e2e-8a6c-563468c485f9",
   "metadata": {},
   "source": [
    "#### 比率の区間推定まとめ\n",
    "\n",
    "1. 標本を無作為抽出する\n",
    "2. 標本から推定量（標本比率)を計算する\n",
    "3. 信頼区間を設定する\n",
    "4. 推定量の標本分布を求める\n",
    "5. 信頼区間の値を標本分布から算出。e.g. 95%信頼区間(-1.97 - +1.96)になる値を求める"
   ]
  },
  {
   "cell_type": "code",
   "execution_count": 80,
   "id": "bd4fe3a8-3154-4325-ba9e-e3e0978181a8",
   "metadata": {},
   "outputs": [
    {
     "data": {
      "text/plain": [
       "(array([570.]), array([630.]))"
      ]
     },
     "execution_count": 80,
     "metadata": {},
     "output_type": "execute_result"
    }
   ],
   "source": [
    "# 支持者の数の標本分布が、二項分布になる（比率ではなく）\n",
    "# 母集団から1000人を無作為抽出して、標本比率が0.6(60%)になるのは、95%の信頼区間でどの程度か\n",
    "# 1000人中、570から630: よって57%から63%\n",
    "\n",
    "alpha = 0.95\n",
    "n = 1000,\n",
    "p = 0.6\n",
    "\n",
    "stats.binom.interval(alpha, n, p)"
   ]
  },
  {
   "cell_type": "code",
   "execution_count": 78,
   "id": "af2f1e6a-4649-4561-ba81-6d0672e17032",
   "metadata": {},
   "outputs": [
    {
     "data": {
      "text/plain": [
       "(array([560.]), array([640.]))"
      ]
     },
     "execution_count": 78,
     "metadata": {},
     "output_type": "execute_result"
    }
   ],
   "source": [
    "alpha = 0.99\n",
    "n = 1000,\n",
    "p = 0.6\n",
    "\n",
    "stats.binom.interval(alpha, n, p)"
   ]
  },
  {
   "cell_type": "code",
   "execution_count": 82,
   "id": "0ef682c0-34cc-4f38-a2ff-0c8441cc2a1d",
   "metadata": {},
   "outputs": [],
   "source": [
    "# データセットを母集団と見立てて、50個の標本比率から母比率を区間推定する\n",
    "# 男女比の推定、100回比率の推定を行う\n",
    "\n",
    "\n",
    "alpha = 0.95\n",
    "n = 50\n",
    "\n",
    "female_rates = []\n",
    "rates = []\n",
    "for i in range(100):\n",
    "    x = df.sample(n)\n",
    "    female_rate = len(x[x['sex']=='Female'])/len(x)\n",
    "    female_rates.append(female_rate)\n",
    "    r = stats.binom.interval(alpha, n, female_rate)\n",
    "    rates.append(r)\n"
   ]
  },
  {
   "cell_type": "code",
   "execution_count": 85,
   "id": "61e281e1-5c21-45aa-bee5-08cff994b50c",
   "metadata": {},
   "outputs": [
    {
     "data": {
      "text/plain": [
       "0.35655737704918034"
      ]
     },
     "execution_count": 85,
     "metadata": {},
     "output_type": "execute_result"
    }
   ],
   "source": [
    "# 母比率\n",
    "len(df[df['sex']=='Female'])/len(df)"
   ]
  },
  {
   "cell_type": "code",
   "execution_count": 88,
   "id": "891368c6-7936-4059-9375-ce0f941a8bab",
   "metadata": {},
   "outputs": [
    {
     "data": {
      "text/plain": [
       "<seaborn.axisgrid.FacetGrid at 0x405afe1430>"
      ]
     },
     "execution_count": 88,
     "metadata": {},
     "output_type": "execute_result"
    },
    {
     "data": {
      "image/png": "[encoded data removed]",
      "text/plain": [
       "<Figure size 360x360 with 1 Axes>"
      ]
     },
     "metadata": {
      "needs_background": "light"
     },
     "output_type": "display_data"
    }
   ],
   "source": [
    "sns.displot(female_rates, kde=True)"
   ]
  },
  {
   "cell_type": "code",
   "execution_count": 109,
   "id": "311936a2-671b-41e0-b58c-cab04663f1f4",
   "metadata": {},
   "outputs": [
    {
     "name": "stdout",
     "output_type": "stream",
     "text": [
      "0.35655737704918034\n"
     ]
    }
   ],
   "source": [
    "# 回答\n",
    "alpha = 0.95\n",
    "n = 50\n",
    "m = 100\n",
    "\n",
    "# 母比率\n",
    "population_female_ratio = len(df[df['sex']=='Female'])/len(df)\n",
    "print(population_female_ratio)\n",
    "\n",
    "results = []\n",
    "\n",
    "for _ in range(m):\n",
    "    sample_df = df.sample(50)\n",
    "    female_ratio = len(sample_df[sample_df['sex']=='Female'])/len(sample_df)\n",
    "    \n",
    "    # 女性の数の区間\n",
    "    min_num, max_num = stats.binom.interval(alpha, n=n, p=female_ratio)\n",
    "    \n",
    "    # Ratioに変換\n",
    "    min_ratio = min_num / n\n",
    "    max_ratio = max_num / n\n",
    "    # 母比率がmin_ratio, max_ratioの間に入っているかどうか\n",
    "    correct = min_ratio < population_female_ratio < max_ratio\n",
    "    results.append({'min': min_ratio, 'max': max_ratio, 'correct': correct})"
   ]
  },
  {
   "cell_type": "code",
   "execution_count": 110,
   "id": "a9bd7fbd-14b6-4881-9de6-c0c0189cfc45",
   "metadata": {},
   "outputs": [
    {
     "data": {
      "text/plain": [
       "True     98\n",
       "False     2\n",
       "Name: correct, dtype: int64"
      ]
     },
     "execution_count": 110,
     "metadata": {},
     "output_type": "execute_result"
    }
   ],
   "source": [
    "result_df = pd.DataFrame(results)\n",
    "result_df['correct'].value_counts()"
   ]
  },
  {
   "cell_type": "markdown",
   "id": "dc0381a5-d736-4ed5-9829-8d05a7104ed7",
   "metadata": {},
   "source": [
    "### 平均値の区間推定\n",
    "\n",
    "- 平均の標本分布の平均は母平均と同じ $\\mu$ になる\n",
    "- 平均の標本分布の分散は母分散を n で割った値 ($\\frac{\\sigma^2}{n}$)\n",
    "- 平均の標本分布は、正規分布になるとは限らない\n",
    "  - 母集団が正規分布に従う場合、平均の標本分布も正規分布になる\n",
    "  - 母集団が正規分布でない場合\n",
    "    - 十分に大きい母集団から標本(例えば100世帯の世帯年収)を無限回、取得した場合、平均の標本分布は正規分布に近似できる\n",
    "    \n",
    "### 標本分布の標準化\n",
    "\n",
    "$$\n",
    "z = \\frac{\\bar{x} - \\mu}{\\frac{\\sigma}{\\sqrt{n}}}\n",
    "$$\n",
    "\n",
    "$$\n",
    "-1.96 < \\frac{\\bar{x} - \\mu}{\\frac{\\sigma}{\\sqrt{n}}} < 1.96\n",
    "$$\n",
    "\n",
    "$\\sigma$ を 不偏分散 $s^{'2}$ の平方根 $s^{'}$ で代用する\n",
    "\n",
    "\n",
    "$$\n",
    "-1.96 < \\frac{\\bar{x} - \\mu}{\\frac{s^{'}}{\\sqrt{n}}} < 1.96\n",
    "$$\n",
    "\n",
    "母標準偏差 $\\sigma$ の代わりに$s^{'}$ で代用で代用したことで、標準正規分布は少し形が変形する。\n",
    "しかし、標本サイズが大きい場合、標準正規分布に近似可能\n",
    "\n",
    "$$\n",
    "\\bar{x} - 1.96 \\frac{s'}{\\sqrt{n}} < \\mu < \\bar{x} + 1.96 \\frac{s'}{\\sqrt{n}}\n",
    "$$"
   ]
  },
  {
   "cell_type": "code",
   "execution_count": 119,
   "id": "5369064e-1a36-4777-8cd2-8314aaf5b9c2",
   "metadata": {},
   "outputs": [
    {
     "name": "stdout",
     "output_type": "stream",
     "text": [
      "2.9982786885245902\n"
     ]
    }
   ],
   "source": [
    "alpha = 0.95\n",
    "population_mean = df['tip'].mean()\n",
    "print(population_mean)\n",
    "n = 50\n",
    "m = 100\n",
    "\n",
    "results = []\n",
    "\n",
    "for _ in range(m):\n",
    "    x = df.sample(50)['tip']\n",
    "    sample_mean = x.mean()\n",
    "    sample_var = stats.tvar(x)\n",
    "    # scaleには本来は母集団の標準偏差を入れたいが、わからないため、不偏分散の平方根を入れる\n",
    "    min_val, max_val = stats.norm.interval(alpha, loc=sample_mean, scale=np.sqrt(sample_var/n))\n",
    "    correct = min_val < population_mean < max_val\n",
    "    results.append({'min': min_val, 'max': max_val, 'correct': correct})"
   ]
  },
  {
   "cell_type": "code",
   "execution_count": 120,
   "id": "cde6d949-0d93-4d39-88bb-44c97eeb4113",
   "metadata": {},
   "outputs": [
    {
     "data": {
      "text/plain": [
       "True     97\n",
       "False     3\n",
       "Name: correct, dtype: int64"
      ]
     },
     "execution_count": 120,
     "metadata": {},
     "output_type": "execute_result"
    }
   ],
   "source": [
    "result_df = pd.DataFrame(results)\n",
    "result_df['correct'].value_counts()"
   ]
  },
  {
   "cell_type": "markdown",
   "id": "cb38188d-2ac8-4939-87b7-19f80ca985e8",
   "metadata": {},
   "source": [
    "### t分布\n",
    "\n",
    "- 母標準偏差 $\\sigma$ の代わりに不偏分散 $s^{'2}$の平方根 s^{'}を代用することで変形した分布。\n",
    "- t分布では95%信頼区間が-1.96 - 1.96にならない　（自由度2の場合、-4.30 〜 4.30）\n",
    "- 自由度(degree of freedom)n-1 パラメータをとる\n",
    "- 標準正規分布に比べ、裾野が広くなる。\n",
    "  - 同じ信頼区間で、とりうる区間が広くなる（推定が曖昧になる）\n",
    "- nを大きくすると、標準正規分布に近づく(nが十分に大きければ、標準正規分布に近似可能）\n",
    "  - nが大きくなると、裾野が狭くなり、区間推定も狭くなる\n",
    "\n",
    "$$\n",
    "t = \\frac{\\bar{x}-\\mu}{\\frac{s^{'}}{\\sqrt{n}}}\n",
    "$$"
   ]
  },
  {
   "cell_type": "code",
   "execution_count": 123,
   "id": "838d4ca0-dfe9-4749-b62f-ae5dcef64d12",
   "metadata": {},
   "outputs": [
    {
     "data": {
      "text/plain": [
       "0.8708566440032918"
      ]
     },
     "execution_count": 123,
     "metadata": {},
     "output_type": "execute_result"
    }
   ],
   "source": [
    "## t分布\n",
    "# stats.t(df) # dfはdegree of freedom\n",
    "\n",
    "# 自由度1のt分布から1つ値を得る\n",
    "stats.t(1).rvs()"
   ]
  },
  {
   "cell_type": "code",
   "execution_count": 127,
   "id": "91e0ecc5-f417-4720-84b6-26fc631e40e6",
   "metadata": {},
   "outputs": [
    {
     "data": {
      "text/plain": [
       "<matplotlib.legend.Legend at 0x405b028bb0>"
      ]
     },
     "execution_count": 127,
     "metadata": {},
     "output_type": "execute_result"
    },
    {
     "data": {
      "image/png": "[encoded data removed]",
      "text/plain": [
       "<Figure size 432x288 with 1 Axes>"
      ]
     },
     "metadata": {
      "needs_background": "light"
     },
     "output_type": "display_data"
    }
   ],
   "source": [
    "x = np.linspace(-3,3,100)\n",
    "\n",
    "# 正規分布\n",
    "z = stats.norm.pdf(x)\n",
    "\n",
    "# 自由度1, 6, 11のt分布\n",
    "for dof in range(1, 12, 5):\n",
    "    t = stats.t(dof).pdf(x)\n",
    "    plt.plot(x,t, label=f\"t dist(dof={dof})\")\n",
    "plt.plot(x,z, label=\"std dist\", linewidth=3)\n",
    "plt.legend()"
   ]
  },
  {
   "cell_type": "markdown",
   "id": "48f0553e-a076-4db3-891c-40db7be972ee",
   "metadata": {},
   "source": [
    "50個の標本平均から正規分布を使った母平均の区間推定と\n",
    "t分布を使った母平均の区間推定で結果がどう異なるかを確認する\n",
    "95%信頼区間とする"
   ]
  },
  {
   "cell_type": "code",
   "execution_count": 147,
   "id": "1ee31909-66d1-425d-8c1b-8f510f843f0f",
   "metadata": {},
   "outputs": [
    {
     "name": "stdout",
     "output_type": "stream",
     "text": [
      "2.9982786885245902\n"
     ]
    }
   ],
   "source": [
    "alpha = 0.95\n",
    "population_mean = df['tip'].mean()\n",
    "print(population_mean)\n",
    "n = 50\n",
    "m = 100\n",
    "\n",
    "results = []\n",
    "\n",
    "for _ in range(m):\n",
    "    x = df.sample(50)['tip']\n",
    "    sample_mean = x.mean()\n",
    "    sample_var = stats.tvar(x)\n",
    "    # 正規分布を使った母平均の区間推定\n",
    "    # scaleには本来は母集団の標準偏差を入れたいが、わからないため、不偏分散の平方根を入れる\n",
    "    min_val, max_val = stats.norm.interval(alpha, loc=sample_mean, scale=np.sqrt(sample_var/n))\n",
    "    correct = min_val < population_mean < max_val\n",
    "    \n",
    "    # t分布を使った母平均の区間推定\n",
    "    min_val_t, max_val_t = stats.t.interval(alpha, loc=sample_mean, scale=np.sqrt(sample_var/n), df=n-1)\n",
    "    correct_t = min_val_t < population_mean < max_val_t\n",
    "    \n",
    "    results.append({'min': min_val, 'max': max_val, 'correct': correct,\n",
    "                    'min_t': min_val_t, 'max_t': max_val_t, 'correct_t': correct_t})\n",
    "    "
   ]
  },
  {
   "cell_type": "code",
   "execution_count": 148,
   "id": "9702ba8d-1fa2-4619-8b55-b3c64c6199a6",
   "metadata": {},
   "outputs": [
    {
     "data": {
      "text/plain": [
       "True     97\n",
       "False     3\n",
       "Name: correct, dtype: int64"
      ]
     },
     "execution_count": 148,
     "metadata": {},
     "output_type": "execute_result"
    }
   ],
   "source": [
    "result_df = pd.DataFrame(results)\n",
    "result_df['correct'].value_counts()"
   ]
  },
  {
   "cell_type": "code",
   "execution_count": 149,
   "id": "6f657bf4-c7f1-4277-bccd-3506e70325dc",
   "metadata": {},
   "outputs": [
    {
     "data": {
      "text/plain": [
       "True     98\n",
       "False     2\n",
       "Name: correct_t, dtype: int64"
      ]
     },
     "execution_count": 149,
     "metadata": {},
     "output_type": "execute_result"
    }
   ],
   "source": [
    "result_df['correct_t'].value_counts()"
   ]
  },
  {
   "cell_type": "code",
   "execution_count": 150,
   "id": "6635e3b4-c63d-4d6f-b73d-69c9208a1370",
   "metadata": {},
   "outputs": [
    {
     "name": "stdout",
     "output_type": "stream",
     "text": [
      "2.4617880350735497 3.0746119649264516\n",
      "2.4540320351167724 3.082367964883229\n"
     ]
    }
   ],
   "source": [
    "print(min_val, max_val)\n",
    "print(min_val_t, max_val_t) # t分布の方が裾野が広い"
   ]
  },
  {
   "cell_type": "markdown",
   "id": "c271003c-e86e-44d5-8594-5d4fe18d7412",
   "metadata": {},
   "source": [
    "#### 平均の区間推定まとめ\n",
    "\n",
    "1. 標本を無作為抽出する\n",
    "2. 標本から推定量（標本平均)を計算する\n",
    "3. 信頼区間を設定する\n",
    "4. 推定量の標本分布を求める\n",
    "5. 信頼区間の値を標本分布から算出。e.g. 自由度n-1のt分布における95%信頼区間(-1.98 - +1.98)になる値を求める"
   ]
  },
  {
   "cell_type": "code",
   "execution_count": null,
   "id": "c69c22e0-f9b0-462f-94eb-cf7057bd2e08",
   "metadata": {},
   "outputs": [],
   "source": []
  },
  {
   "cell_type": "code",
   "execution_count": null,
   "id": "a4ae811a-0b7a-41b0-9bfb-828632ab2a1a",
   "metadata": {},
   "outputs": [],
   "source": []
  }
 ],
 "metadata": {
  "kernelspec": {
   "display_name": "Python 3",
   "language": "python",
   "name": "python3"
  },
  "language_info": {
   "codemirror_mode": {
    "name": "ipython",
    "version": 3
   },
   "file_extension": ".py",
   "mimetype": "text/x-python",
   "name": "python",
   "nbconvert_exporter": "python",
   "pygments_lexer": "ipython3",
   "version": "3.8.8"
  }
 },
 "nbformat": 4,
 "nbformat_minor": 5
}
