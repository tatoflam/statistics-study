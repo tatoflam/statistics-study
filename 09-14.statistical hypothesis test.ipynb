{
 "cells": [
  {
   "cell_type": "markdown",
   "id": "38151fff-2fee-484a-96f2-50c7b1b202c0",
   "metadata": {},
   "source": [
    "# 仮説検定\n",
    "\n",
    "## Section 9 統計的仮説検定\n",
    "\n",
    "例 薬Aと薬Bで効果の差はあるか\n",
    "\n",
    "- 帰無仮説\n",
    "  - 薬AとBで差はない (←棄却することを狙っている)。統計的に差があると言えれば棄却する。言えなければ採択する\n",
    "\n",
    "- 対立仮説\n",
    "  - 薬AとBで差はある (←成立することを狙っている）。帰無仮説を棄却できれば対立仮説が成立する。\n",
    "\n",
    "なぜ？\n",
    "- 「差がある」にはさまざまなケースがある。差にもいろんなケースがある\n",
    "- 「差がある」ことを言うために、「差がない」と言う１つの仮説のみを否定すれば良い。\n"
   ]
  },
  {
   "cell_type": "markdown",
   "id": "dc3fd1bf-d1ef-49ca-8eef-c24b1b5790fe",
   "metadata": {},
   "source": [
    "検定の流れ\n",
    "1. 帰無仮説と対立仮説を立てる\n",
    "2. 帰無仮説が正しいと家庭のもと、標本観察を行う(標本統計量を計算する)\n",
    "3. 標本観察の結果、帰無仮説を否定できるかを確認する（否定した場合、対立仮説が成立）\n"
   ]
  },
  {
   "cell_type": "markdown",
   "id": "385e7124-1008-47a2-a7e0-e04700bdcf6c",
   "metadata": {},
   "source": [
    "## Section 10 比率差の検定\n",
    "\n",
    "- 標本の背後にある母集団の比率を検定する\n",
    "- 「成立させたい仮説」を対立仮説に選ぶこと。片側検定(<, >などを確認)、両側検定がある\n",
    "- 帰無仮説が正しいと仮定のもと、標本観察を行う。\n",
    "  - 二つの標本から比率を計算し、**比率の差がどのような標本分布になるか**を考える\n",
    "  - 帰無仮説が正しいとした場合、得られた比率の差がどれくらいの確率で選べるかを確認する\n",
    "\n",
    "### 比率の標本分布\n",
    "\n",
    "- まずそれぞぞれの比率の標本分布を考える\n",
    "- クリック数x, 閲覧数nとすると、クリック率x/nは平均p, 分散 pq/nの正規分布に従う（ただしpは母比率、q=1-p）\n",
    "- 比率の差\n",
    "\n",
    "$$\n",
    "\\frac{x_1}{n_1} - \\frac{x_2}{n_2}\n",
    "$$\n",
    "\n",
    "標本分布: 平均は二つの確率変数の差の、平均値はそれぞれの平均の差、分散はそれぞれの標本分布の分散の和\n",
    "\n",
    "- 平均: $p_1-p_2$\n",
    "- 分散: $\\frac{p1q1}{n1} + \\frac{p2q2}{n2}$　= $\\frac{p1(1-q1)}{n1} + \\frac{p2(1-q2)}{n2}$\n",
    "- 標準偏差: $\\sqrt{\\frac{p1(1-p1)}{n1}+\\frac{p2(1-p2)}{n2}}$\n",
    "\n",
    "帰無仮説（p1 = p2 ）が正しいと仮定すると、比率差 $\\frac{x_1}{n_1} - \\frac{x_2}{n_2}$の標本分布は、\n",
    "- 平均: 0\n",
    "- 標準偏差: $\\sqrt{p(1-p)(\\frac{1}{n1}+\\frac{1}{n2})}$\n",
    "\n",
    "### 有意水準と両/片側検定\n",
    "\n",
    "- 帰無仮説を正しいとすると滅多に起きない確率の基準を有意水準という。\n",
    "- 通常は $\\alpha=.05$　または　$\\alpha=.01$\n",
    "- 検定統計量が有意水準以下の確率で得られる場合、帰無仮説を棄却し、「統計的に有意である」\n",
    "- 有意水準 .05の場合\n",
    "  - 両側検定 : 下側2.5%, 上側2.5% が棄却域\n",
    "  - 片側検定(上側): 上側 5%\n",
    "  - 片側検定(下側): 下側 5%\n",
    "- 標準化して考える。平均(0)を引いて、標準偏差($\\sqrt{p(1-p)(\\frac{1}{n1}+\\frac{1}{n2})}$)で割る\n",
    "\n",
    "$$\n",
    "z = \\frac{\\frac{x_1}{n_1} - \\frac{x_2}{n_2}}{\\sqrt{p(1-p)(\\frac{1}{n1}+\\frac{1}{n2})}}\n",
    "$$\n",
    "\n",
    "- 有意水準5%の両側検定の場合、zの値が、-1.96以下、または1.96以上であれば、棄却域となり、帰無仮説を棄却する\n"
   ]
  },
  {
   "cell_type": "markdown",
   "id": "185d210f-e658-4413-a506-db6ae9fa6fd8",
   "metadata": {},
   "source": [
    "### 母集団 pの推定値 $\\hat{p}$"
   ]
  },
  {
   "cell_type": "markdown",
   "id": "93255ab8-6aa5-4894-8977-704d61eca45b",
   "metadata": {},
   "source": [
    "帰無仮説を正しいとするため、二つの標本を合わせた比率を母比率pの推定値 $\\hat{p}$ とする  \n",
    "p1 = 30/1000  \n",
    "p2 = 33/1000の場合、  \n",
    " $\\hat{p} = \\frac{30+33}{1000+1000} = 63/2000$\n",
    " \n",
    "有意水準5%片側検定の場合、棄却域は<-1.64 または +1.64<."
   ]
  },
  {
   "cell_type": "markdown",
   "id": "7d5935e5-5868-40dc-9cdf-455bf93f2115",
   "metadata": {},
   "source": [
    "### p値\n",
    "\n",
    "帰無仮説が正しいとした場合に、その統計検定量が得られる確率をp値という。\n",
    "pが有意水準（例:5%)よりも小さいかどうかが重要。"
   ]
  },
  {
   "cell_type": "markdown",
   "id": "fabe45f6-5d48-40aa-80d0-025cb0e62514",
   "metadata": {},
   "source": [
    "#### 比率差の検定まとめ\n",
    "\n",
    "1. 標本を無作為抽出する\n",
    "2. 帰無仮説と対立仮説を立てる\n",
    "3. 帰無仮説の下で比率差の標本分布を求める\n",
    "4. 母比率pの推定値 $\\hat{p}$ を求める\n",
    "5. 標準化したzを計算する(z分布： 標準正規分布）\n",
    "6. zが棄却域に入るかを見る\n",
    "\n",
    "## 比率差の検定(Z-TEST)"
   ]
  },
  {
   "cell_type": "code",
   "execution_count": 70,
   "id": "acaae2f4-71d6-4482-820d-40cb47f3d6ed",
   "metadata": {},
   "outputs": [],
   "source": [
    "import numpy as np\n",
    "import pandas as pd\n",
    "import seaborn as sns\n",
    "from scipy import stats\n",
    "from statsmodels.stats.proportion import proportions_ztest\n",
    "from statsmodels.api import qqplot\n",
    "import matplotlib.pyplot as plt\n",
    "%matplotlib inline"
   ]
  },
  {
   "cell_type": "markdown",
   "id": "9741c826-5764-4be7-aef9-1529a7b0d55c",
   "metadata": {},
   "source": [
    "自社のサイトの改善により、クリック率が30/1000から33/1000に上がった。\n",
    "クリック率が上がったかどうかを確かめたい。"
   ]
  },
  {
   "cell_type": "code",
   "execution_count": 15,
   "id": "9a1fe4ab-8761-4618-be27-a3b03d1b95e8",
   "metadata": {},
   "outputs": [
    {
     "data": {
      "text/plain": [
       "(-0.3840618481549573, 0.35046630388746547)"
      ]
     },
     "execution_count": 15,
     "metadata": {},
     "output_type": "execute_result"
    }
   ],
   "source": [
    "proportions_ztest([30,33], [1000,1000], alternative='smaller')\n",
    "# z: -0.38 (>-1.64)\n",
    "# p値: 0.35 (>0.05)\n",
    "# 帰無仮説を棄却できない"
   ]
  },
  {
   "cell_type": "markdown",
   "id": "9ec275e8-3d49-4efa-b261-37e6c647887e",
   "metadata": {},
   "source": [
    "## Section 10: 連関の検定（カイ二乗検定）\n",
    "\n",
    "- ２つのカテゴリー変数間の連関があるかを検定する\n",
    "- 帰無仮説には「連関がない（＝独立）」\n",
    "- 対立仮説には「連関がある（＝独立ではない）」\n",
    "- 観測度数が期待度数からどれくらい離れているかを計算する$x^2$ (カイ二乗）\n",
    "\n",
    "$$\n",
    "x^2 = \\sum_{i=1}^a \\sum_{j=1}^b \\frac{(n_{ij}-e_{ij})^2}{e_{ij}}\n",
    "$$\n",
    "\n",
    "a行b列の分割表におけるi行j列の観測度数が $n_{ij}$, 期待度数が　$e_{ij}$ とする  \n",
    "独立なら0となる  \n",
    "$x^2$は$x^2$二乗分布に従う　　\n",
    "\n",
    "### カイ二乗分布\n",
    "\n",
    "- $x^2$ 値が従う確率分布\n",
    "- 自由度(degree of freedom)を唯一のパラメータにとる分布\n",
    "- 自由度=(a-1)(b-1) (a行b列の分割表)\n",
    "\n",
    "自由度とは、自由に値を決められる数。たとえば２つの値をとるカテゴリ変数は、１つ決まれば、もう１つは決まってしまう（自由度：１）\n",
    "\n",
    "\n",
    "### カイ二乗分布のp値\n",
    "\n",
    "- 帰無仮説が正しいとした場合の標本から計算された $x^2$ が得られる確率\n",
    "- ２変数が独立の関係にある場合は、 $x^2$ = 0 になり、この時、 p=1\n",
    "- $x^2$分布の右から確率を累積した値（右側の**面積**）\n",
    "- 常に上側の棄却域しかない。\n",
    "- 例: 自由度1の $x^2$ 値の有意水準5%は $x^2$=3.841\n",
    "\n",
    "たとえばお酒を飲む/飲まないとタバコ吸う/吸わないの x^2=24.11で求めたp=9e^0-7の場合、棄却域に入り帰無仮説は棄却される。  \n",
    "よって連関はある、と言える\n",
    "\n",
    "### 連関の検定(カイ二乗検定）まとめ\n",
    "\n",
    "1. 標本を無作為に抽出する（もしくは母集団の設定）\n",
    "2. 帰無仮説と対立仮説、および有意水準を立てる\n",
    "3. 検定統計量 $x^2$ を求める\n",
    "4. 計算した $x^2$ が、$x^2$分布で棄却域に入るかを確認する。\n",
    "  - 上側を見るので、2x2の分割表(2-1)*(2-1)=自由度1の $x^2$ 分布における有意水準5%の棄却域は $x^2$ > 3.841. \n",
    "  - 今回の $x^2$ は棄却域に入るため、帰無仮説を棄却し、対立仮説を成立させることができる\n",
    "  - 結論: 飲酒と喫煙の行動に連関はあるといえる (p<.05)"
   ]
  },
  {
   "cell_type": "code",
   "execution_count": 16,
   "id": "e5857197-fa66-45bc-8cbf-8e9ef8b68125",
   "metadata": {},
   "outputs": [
    {
     "data": {
      "text/plain": [
       "(24.107142857142858,\n",
       " 9.112167294252327e-07,\n",
       " 1,\n",
       " array([[ 6., 14.],\n",
       "        [24., 56.]]))"
      ]
     },
     "execution_count": 16,
     "metadata": {},
     "output_type": "execute_result"
    }
   ],
   "source": [
    "# chi2, p, dof, ex = stats.chi2_contingency(obs, correction=False)\n",
    "# obs: observation (観測度数）)\n",
    "# correction: イエイエツの修正. default ではTrue\n",
    "\n",
    "obs = [[15,5],[15,65]]\n",
    "stats.chi2_contingency(obs, correction=False)"
   ]
  },
  {
   "cell_type": "markdown",
   "id": "9437ce93-f02f-4aec-8912-6fd7f2d891d1",
   "metadata": {},
   "source": [
    "- 24.10：$x^2$値\n",
    "- 9.11e-7 : p (<.05)\n",
    "- 1: Dof\n",
    "- expectation"
   ]
  },
  {
   "cell_type": "markdown",
   "id": "317f4578-d9b5-4578-b1b7-1974343c74fb",
   "metadata": {},
   "source": [
    "#### イエイエツの修正は通常はあまりかけない\n",
    "\n",
    "- p値が高くなるため、本当は連関があるのにないと結論する（False negative)の確率が高くなる\n",
    "- 用途は限定的\n",
    "\n",
    "$$\n",
    "x^2 = \\sum_{i=1}^a \\sum_{j=1}^b \\frac{(|n_{ij}-e_{ij}|-\\sqrt{0.5})^2}{e_{ij}}\n",
    "$$\n",
    "\n",
    "#### 自由度１のカイ二乗検定は比率差の検定と同じ\n",
    "\n",
    "- 比率差の検定は、分割表で表すことができる。\n",
    "- 差の有無を$x^2$ を計算して、自由度１の $x^2$ 分布を使って検定できる\n",
    "- カイ二乗検定では対立仮説が「比率差なし」でしか検定できない\n"
   ]
  },
  {
   "cell_type": "code",
   "execution_count": 18,
   "id": "de0d1bd2-b4b2-4e1f-921e-b2c3a77a417c",
   "metadata": {},
   "outputs": [
    {
     "data": {
      "text/html": [
       "<div>\n",
       "<style scoped>\n",
       "    .dataframe tbody tr th:only-of-type {\n",
       "        vertical-align: middle;\n",
       "    }\n",
       "\n",
       "    .dataframe tbody tr th {\n",
       "        vertical-align: top;\n",
       "    }\n",
       "\n",
       "    .dataframe thead th {\n",
       "        text-align: right;\n",
       "    }\n",
       "</style>\n",
       "<table border=\"1\" class=\"dataframe\">\n",
       "  <thead>\n",
       "    <tr style=\"text-align: right;\">\n",
       "      <th></th>\n",
       "      <th>total_bill</th>\n",
       "      <th>tip</th>\n",
       "      <th>sex</th>\n",
       "      <th>smoker</th>\n",
       "      <th>day</th>\n",
       "      <th>time</th>\n",
       "      <th>size</th>\n",
       "      <th>tip_rate</th>\n",
       "    </tr>\n",
       "  </thead>\n",
       "  <tbody>\n",
       "    <tr>\n",
       "      <th>0</th>\n",
       "      <td>16.99</td>\n",
       "      <td>1.01</td>\n",
       "      <td>Female</td>\n",
       "      <td>No</td>\n",
       "      <td>Sun</td>\n",
       "      <td>Dinner</td>\n",
       "      <td>2</td>\n",
       "      <td>0.059447</td>\n",
       "    </tr>\n",
       "    <tr>\n",
       "      <th>1</th>\n",
       "      <td>10.34</td>\n",
       "      <td>1.66</td>\n",
       "      <td>Male</td>\n",
       "      <td>No</td>\n",
       "      <td>Sun</td>\n",
       "      <td>Dinner</td>\n",
       "      <td>3</td>\n",
       "      <td>0.160542</td>\n",
       "    </tr>\n",
       "    <tr>\n",
       "      <th>2</th>\n",
       "      <td>21.01</td>\n",
       "      <td>3.50</td>\n",
       "      <td>Male</td>\n",
       "      <td>No</td>\n",
       "      <td>Sun</td>\n",
       "      <td>Dinner</td>\n",
       "      <td>3</td>\n",
       "      <td>0.166587</td>\n",
       "    </tr>\n",
       "    <tr>\n",
       "      <th>3</th>\n",
       "      <td>23.68</td>\n",
       "      <td>3.31</td>\n",
       "      <td>Male</td>\n",
       "      <td>No</td>\n",
       "      <td>Sun</td>\n",
       "      <td>Dinner</td>\n",
       "      <td>2</td>\n",
       "      <td>0.139780</td>\n",
       "    </tr>\n",
       "    <tr>\n",
       "      <th>4</th>\n",
       "      <td>24.59</td>\n",
       "      <td>3.61</td>\n",
       "      <td>Female</td>\n",
       "      <td>No</td>\n",
       "      <td>Sun</td>\n",
       "      <td>Dinner</td>\n",
       "      <td>4</td>\n",
       "      <td>0.146808</td>\n",
       "    </tr>\n",
       "  </tbody>\n",
       "</table>\n",
       "</div>"
      ],
      "text/plain": [
       "   total_bill   tip     sex smoker  day    time  size  tip_rate\n",
       "0       16.99  1.01  Female     No  Sun  Dinner     2  0.059447\n",
       "1       10.34  1.66    Male     No  Sun  Dinner     3  0.160542\n",
       "2       21.01  3.50    Male     No  Sun  Dinner     3  0.166587\n",
       "3       23.68  3.31    Male     No  Sun  Dinner     2  0.139780\n",
       "4       24.59  3.61  Female     No  Sun  Dinner     4  0.146808"
      ]
     },
     "execution_count": 18,
     "metadata": {},
     "output_type": "execute_result"
    }
   ],
   "source": [
    "df = sns.load_dataset('tips')\n",
    "df['tip_rate'] = df['tip']/df['total_bill']\n",
    "df.head()"
   ]
  },
  {
   "cell_type": "markdown",
   "id": "3029c17b-eea9-4858-96d5-f7b0ba1e1e88",
   "metadata": {},
   "source": [
    "### z検定とカイ二乗検定"
   ]
  },
  {
   "cell_type": "code",
   "execution_count": 32,
   "id": "96bb5659-9093-4769-8d4d-5f01d4236cb9",
   "metadata": {},
   "outputs": [],
   "source": [
    "n = 50\n",
    "sample_df1 = df.sample(n)\n",
    "sample_df2 = df.sample(n)"
   ]
  },
  {
   "cell_type": "code",
   "execution_count": 33,
   "id": "c23350f9-ad3a-4bc5-a8bc-e09197387e5d",
   "metadata": {},
   "outputs": [
    {
     "data": {
      "text/plain": [
       "(37, 36)"
      ]
     },
     "execution_count": 33,
     "metadata": {},
     "output_type": "execute_result"
    }
   ],
   "source": [
    "count1 = sample_df1['time'].value_counts()['Dinner']\n",
    "count2 = sample_df2['time'].value_counts()['Dinner']\n",
    "(count1, count2)"
   ]
  },
  {
   "cell_type": "code",
   "execution_count": 38,
   "id": "e58cda74-7f35-44b1-9f11-03ecff243536",
   "metadata": {},
   "outputs": [
    {
     "data": {
      "text/plain": [
       "(0.22524579279982884, 0.8217880671136293)"
      ]
     },
     "execution_count": 38,
     "metadata": {},
     "output_type": "execute_result"
    }
   ],
   "source": [
    "# Z検定\n",
    "\n",
    "proportions_ztest([count1, count2], [n,n], alternative='two-sided')\n",
    "\n",
    "# 1. zの値\n",
    "# 2. p値 (0.05よりも大きい: 帰無仮説は棄却できない（差はない))"
   ]
  },
  {
   "cell_type": "code",
   "execution_count": 39,
   "id": "68322f97-f63b-4294-86fd-593597cdabd6",
   "metadata": {},
   "outputs": [
    {
     "data": {
      "text/plain": [
       "Dinner    37\n",
       "Lunch     13\n",
       "Name: time, dtype: int64"
      ]
     },
     "execution_count": 39,
     "metadata": {},
     "output_type": "execute_result"
    }
   ],
   "source": [
    "# カイ二乗\n",
    "sample_df1['time'].value_counts()"
   ]
  },
  {
   "cell_type": "code",
   "execution_count": 41,
   "id": "ff469b48-d472-4efe-b7d7-e52599851a67",
   "metadata": {},
   "outputs": [],
   "source": [
    "sample1_freq = sample_df1['time'].value_counts().values\n",
    "sample2_freq = sample_df2['time'].value_counts().values"
   ]
  },
  {
   "cell_type": "code",
   "execution_count": 43,
   "id": "e1a7b685-b02b-4779-9c84-ec1a48634bd0",
   "metadata": {},
   "outputs": [
    {
     "data": {
      "text/plain": [
       "(array([37, 13]), array([36, 14]))"
      ]
     },
     "execution_count": 43,
     "metadata": {},
     "output_type": "execute_result"
    }
   ],
   "source": [
    "sample1_freq, sample2_freq"
   ]
  },
  {
   "cell_type": "code",
   "execution_count": 44,
   "id": "af760817-7f31-4ac2-b4b0-8c1514044a10",
   "metadata": {},
   "outputs": [
    {
     "data": {
      "text/plain": [
       "(0.050735667174023336,\n",
       " 0.8217880671136294,\n",
       " 1,\n",
       " array([[36.5, 13.5],\n",
       "        [36.5, 13.5]]))"
      ]
     },
     "execution_count": 44,
     "metadata": {},
     "output_type": "execute_result"
    }
   ],
   "source": [
    "stats.chi2_contingency([sample1_freq, sample2_freq], correction=False)"
   ]
  },
  {
   "cell_type": "code",
   "execution_count": 45,
   "id": "1088a363-4a4b-489f-8678-6d904f98ec36",
   "metadata": {},
   "outputs": [],
   "source": [
    "# P値が z検定と カイ二乗検定で同じになる\n",
    "# p値は棄却水準 有意差0.05よりも大きく、棄却できない（差はない）"
   ]
  },
  {
   "cell_type": "markdown",
   "id": "95aa9126-2e7a-4057-8b9e-c7f5f3fa194f",
   "metadata": {},
   "source": [
    "## Section12 t検定 (平均値差の検定)\n",
    "\n",
    "- 対応がない検定 (全く別の母集団で、実験Aと実験Bの差を確認する（$\\mu_1$ と$\\mu_2$の間に差はあると言えるのか））\n",
    "- 対応がある検定 (同じ母集団で、人の投薬前後の結果を比較する（差の平均　$\\mu$　はゼロと言えるのか））\n",
    "\n",
    "### 平均値差の検定\n",
    "\n",
    "検定の前に検定を行うことは正しくないという指摘もある（検定の多重性：連続してエラーすることで誤りが増幅される危険性。5%エラーして、かつ5%エラー）。以下の例では、例えば最初からウェルチのt検定を行う。\n",
    "\n",
    "- 大標本（正規分布に近似可能）: z検定\n",
    "- 小標本（正規分布に近似できない）:\n",
    "  - 正規分布 - シャピロウィルク検定\n",
    "    - Yes:\n",
    "      - 等分散（２群の分散が等しい） - F検定\n",
    "        - Yes: スチューデントのt検定\n",
    "        - No: ウェルチのt検定\n",
    "    - No:\n",
    "      - ノンパラメトリック検定\n",
    "      \n",
    "考え方  \n",
    "\n",
    "  - 帰無仮説と対立仮説\n",
    "  - 比率差の検定と同様に、平均値差の標本分布を考える\n",
    "\n",
    "### z検定\n",
    "\n",
    "- 十分に大きい標本であれば、 正規分布に近似可能. z分布を使ってz検定\n",
    "    - 独立した標本の平均の差: $\\mu_1 - \\mu_2$\n",
    "    - 分散 $\\sigma^2 = \\frac{\\sigma_1^2}{n_1}+\\frac{\\sigma_2^2}{n_2} $　(母分散 $\\sigma^2$はわからないので、標本の不偏分散 $s_1^{'2}$, $s_2^{'2}$ で代用する\n",
    "    - 標準正規分布にするために、平均値を引き、標準偏差で割る（z分布を計算する）\n",
    "    - 棄却域 (-1.96, 1.96)によって両側検定\n",
    "    \n",
    "### スチューデントのt検定\n",
    "\n",
    "#### 二つの母集団に共通な $\\sigma_1^2$ (=$\\sigma_2^2$) の推定値\n",
    "\n",
    "不偏分散で代用したいが、正規分布には近似できない。\n",
    "等分散を前提にして、t検定を行う。  \n",
    "$\\sigma_1^2 = \\sigma_2^2 $ とすると、分散 $\\sigma^2$ は $\\sigma_1^2(\\frac{1}{n_1}+\\frac{1}{n_2})$ と書ける  \n",
    "$\\sigma_1^2$ 母分散であるため未知だが、$\\frac{(n_1)s_1^{'2} + (n_2)s_2^{'2}}{n_1+n_2-2}$ と推定できる  \n",
    "酔って、分散 $\\sigma^2$ は　$\\frac{(n_1)s_1^{'2} + (n_2)s_2^{'2}}{n_1+n_2-2}(\\frac{1}{n_1}+\\frac{1}{n_2})$ と推定できる  \n",
    "つまり、 $\\bar{x_1} - \\bar{x_2}$ の標本分布は平均 $\\mu = \\mu_1-\\mu_2$, 分散 $\\sigma^2 = \\frac{(n_1)s_1^{'2} + (n_2)s_2^{'2}}{n_1+n_2-2}(\\frac{1}{n_1}+\\frac{1}{n_2})$の分布。　　\n",
    "\n",
    "\n",
    "#### t分布\n",
    "\n",
    "- 標本分布を標準化(平均を引いて、標準偏差で割る)すると t分布になる\n",
    "- t分布とは、自由度n-1をパラメータに取り、標準正規分布に比べて裾野が広く、nを大きくすると標準正規分布に近くなる分布。\n",
    "- $\\mu_1- \\mu_2 = 0$　なので、 $ t= \\frac{\\bar{x_1}-\\bar{x_2}}{\\hat{\\delta}} $\n",
    "\n",
    "**帰無仮説 $\\mu_1- \\mu_2 = 0$　が正しいとした時の $ t= \\frac{\\bar{x_1}-\\bar{x_2}}{\\hat{\\delta}} $ を計算し、自由度 $n_1+n_2-2$ のt分布において棄却域に入るかどうかを見ればOK**"
   ]
  },
  {
   "cell_type": "markdown",
   "id": "d94c9d59-e1ea-46a8-98ab-645467c73ba9",
   "metadata": {},
   "source": [
    "### ウェルチのt検定\n",
    "\n",
    "等分散でない場合はこちら(大標本の際のzと同じ）\n",
    "\n",
    "$$\n",
    "t =  \\frac{\\bar{x_1}-\\bar{x_2}}{\\sqrt{\\frac{s_1^{'2}}{n_1} + \\frac{s_2^{'2}}{n_2}}} \n",
    "$$\n"
   ]
  },
  {
   "cell_type": "code",
   "execution_count": 51,
   "id": "e14db383-0955-43fc-9db9-4db4daa55637",
   "metadata": {},
   "outputs": [
    {
     "name": "stdout",
     "output_type": "stream",
     "text": [
      "0.15765054700429748\n",
      "0.16649073632892475\n"
     ]
    }
   ],
   "source": [
    "# stats.ttest_ind (対応なし: 独立)\n",
    "\n",
    "#スチューデント stats.ttest_ind(a, b, equal_var=True) \n",
    "#ウェルチ stats.ttest_ind(a, b, equal_var=False)\n",
    "#　戻り: t, p\n",
    "\n",
    "male_tips = df[df['sex']=='Male']['tip_rate']\n",
    "female_tips = df[df['sex']=='Female']['tip_rate']\n",
    "print(male_tips.mean())\n",
    "print(female_tips.mean())"
   ]
  },
  {
   "cell_type": "code",
   "execution_count": null,
   "id": "253f9aa5-ea49-4854-a737-2abd0839a1e2",
   "metadata": {},
   "outputs": [],
   "source": []
  },
  {
   "cell_type": "code",
   "execution_count": 58,
   "id": "97b1d476-8549-45ff-a79a-9a36fcdca17d",
   "metadata": {},
   "outputs": [
    {
     "name": "stdout",
     "output_type": "stream",
     "text": [
      "Ttest_indResult(statistic=-1.0833972270477996, pvalue=0.2797103849605489)\n",
      "Ttest_indResult(statistic=-1.1432770167349968, pvalue=0.2542456188927583)\n"
     ]
    }
   ],
   "source": [
    "# 平均値差の検定\n",
    "# データセット全体を標本と見立てて、男女のチップ率の違いを調べる\n",
    "\n",
    "a = male_tips\n",
    "b = female_tips\n",
    "\n",
    "#スチューデント\n",
    "print(stats.ttest_ind(a, b, equal_var=True))\n",
    "#ウェルチ ← 等分散性を担保しなくてよく、標本が大きければz検定に近似するため、基本はこれを使う\n",
    "print(stats.ttest_ind(a, b, equal_var=False))"
   ]
  },
  {
   "cell_type": "markdown",
   "id": "ba5d5131-7420-4d66-8100-56f15ae81b33",
   "metadata": {},
   "source": [
    "有意水準を0.05とすると、pの値は有意水準より大きい(たとえ帰無仮説が正しいとしても27％の確率で起こりうる）\n",
    "帰無仮説を棄却できないので、差はない。"
   ]
  },
  {
   "cell_type": "code",
   "execution_count": 54,
   "id": "181a6533-3d1f-4f54-b4be-ba7adcd4a8eb",
   "metadata": {},
   "outputs": [
    {
     "data": {
      "text/plain": [
       "<seaborn.axisgrid.FacetGrid at 0x40303f66d0>"
      ]
     },
     "execution_count": 54,
     "metadata": {},
     "output_type": "execute_result"
    },
    {
     "data": {
      "image/png": "[encoded data removed]",
      "text/plain": [
       "<Figure size 360x360 with 1 Axes>"
      ]
     },
     "metadata": {
      "needs_background": "light"
     },
     "output_type": "display_data"
    }
   ],
   "source": [
    "sns.displot(male_tips)"
   ]
  },
  {
   "cell_type": "code",
   "execution_count": 55,
   "id": "2afb19b4-cb8a-4fc3-90e4-ecfcc4f8f98d",
   "metadata": {},
   "outputs": [
    {
     "data": {
      "text/plain": [
       "<seaborn.axisgrid.FacetGrid at 0x4052e48d30>"
      ]
     },
     "execution_count": 55,
     "metadata": {},
     "output_type": "execute_result"
    },
    {
     "data": {
      "image/png": "[encoded data removed]",
      "text/plain": [
       "<Figure size 360x360 with 1 Axes>"
      ]
     },
     "metadata": {
      "needs_background": "light"
     },
     "output_type": "display_data"
    }
   ],
   "source": [
    "sns.displot(female_tips)"
   ]
  },
  {
   "cell_type": "code",
   "execution_count": 57,
   "id": "a91d29d8-57d5-47bd-8eea-7ead42f5954a",
   "metadata": {},
   "outputs": [
    {
     "data": {
      "text/plain": [
       "<AxesSubplot:xlabel='sex', ylabel='tip_rate'>"
      ]
     },
     "execution_count": 57,
     "metadata": {},
     "output_type": "execute_result"
    },
    {
     "data": {
      "image/png": "[encoded data removed]",
      "text/plain": [
       "<Figure size 432x288 with 1 Axes>"
      ]
     },
     "metadata": {
      "needs_background": "light"
     },
     "output_type": "display_data"
    }
   ],
   "source": [
    "sns.boxplot(data=df, x='sex', y='tip_rate')"
   ]
  },
  {
   "cell_type": "markdown",
   "id": "d80a6de8-0a3c-41a1-9067-b0ff2d0aa4b0",
   "metadata": {},
   "source": [
    "![\"平均値差の検定\"](平均値差の検定.png)"
   ]
  },
  {
   "cell_type": "markdown",
   "id": "7e337cf9-7b61-4a05-90ac-9346dbd1c1b5",
   "metadata": {},
   "source": [
    "## Section 13 正規性と等分散性の検定\n",
    "\n",
    "- 母集団が正規分布かどうか（シャピロウィルク検定）\n",
    "- 母集団が等分散かどうか（F検定）\n",
    "\n",
    "### シャピロウィルク検定\n",
    "\n",
    "- 帰無仮説: **母集団が正規分布に従う** (←棄却を狙っていない）\n",
    "  → 棄却できなかったら採択する？正規分布に従うという仮説を否定できなかった（正規分布に従うと言い切れる訳ではない）\n",
    "- 対立仮説: 母集団が正規分布に従わない\n",
    "\n",
    "### Q-Q Plot\n",
    "\n",
    "- Quantile - Quantile プロット（quantile: 分位数）\n",
    "- 標準正規分布の累積密度関数(CDF)を理論分布としてxに置く。これと観測した分布を視覚的に比較する。"
   ]
  },
  {
   "cell_type": "code",
   "execution_count": 82,
   "id": "56ce6986-6807-4950-a0cb-feee21dd94a6",
   "metadata": {},
   "outputs": [],
   "source": [
    "male_tipr = df[df['sex']=='Male']['tip_rate']\n",
    "female_tipr = df[df['sex']=='Female']['tip_rate']"
   ]
  },
  {
   "cell_type": "code",
   "execution_count": 84,
   "id": "4d2e519d-9129-4d99-9601-34f5da0719aa",
   "metadata": {},
   "outputs": [
    {
     "data": {
      "text/plain": [
       "<seaborn.axisgrid.FacetGrid at 0x40529ae8b0>"
      ]
     },
     "execution_count": 84,
     "metadata": {},
     "output_type": "execute_result"
    },
    {
     "data": {
      "image/png": "[encoded data removed]",
      "text/plain": [
       "<Figure size 360x360 with 1 Axes>"
      ]
     },
     "metadata": {
      "needs_background": "light"
     },
     "output_type": "display_data"
    }
   ],
   "source": [
    "sns.displot(male_tipr, kde=True)"
   ]
  },
  {
   "cell_type": "code",
   "execution_count": 74,
   "id": "7411bde0-43f3-4c7c-8d3c-671ffd86a9ac",
   "metadata": {},
   "outputs": [
    {
     "data": {
      "image/png": "[encoded data removed]",
      "text/plain": [
       "<Figure size 432x288 with 1 Axes>"
      ]
     },
     "metadata": {
      "needs_background": "light"
     },
     "output_type": "display_data"
    }
   ],
   "source": [
    "fig = qqplot(male_tipr, line='r')"
   ]
  },
  {
   "cell_type": "code",
   "execution_count": 79,
   "id": "db1706de-c3f8-4225-bf3e-0050eacc24ed",
   "metadata": {},
   "outputs": [
    {
     "data": {
      "image/png": "[encoded data removed]",
      "text/plain": [
       "<Figure size 432x288 with 1 Axes>"
      ]
     },
     "metadata": {
      "needs_background": "light"
     },
     "output_type": "display_data"
    }
   ],
   "source": [
    "fig = qqplot(male_tipr, line='r', \n",
    "            dist=stats.norm(loc=np.mean(male_tipr), \n",
    "                            scale=np.sqrt(stats.tvar(male_tipr))))"
   ]
  },
  {
   "cell_type": "code",
   "execution_count": 83,
   "id": "c21c3f93-4a2a-4837-a255-3b7236de69cf",
   "metadata": {},
   "outputs": [
    {
     "data": {
      "text/plain": [
       "<seaborn.axisgrid.FacetGrid at 0x4051fd1c70>"
      ]
     },
     "execution_count": 83,
     "metadata": {},
     "output_type": "execute_result"
    },
    {
     "data": {
      "image/png": "[encoded data removed]",
      "text/plain": [
       "<Figure size 360x360 with 1 Axes>"
      ]
     },
     "metadata": {
      "needs_background": "light"
     },
     "output_type": "display_data"
    }
   ],
   "source": [
    "sns.displot(female_tipr, kde=True)"
   ]
  },
  {
   "cell_type": "code",
   "execution_count": 85,
   "id": "8206fbd3-a00e-4bc4-95c8-1887558e9b6c",
   "metadata": {},
   "outputs": [
    {
     "data": {
      "image/png": "[encoded data removed]",
      "text/plain": [
       "<Figure size 432x288 with 1 Axes>"
      ]
     },
     "metadata": {
      "needs_background": "light"
     },
     "output_type": "display_data"
    }
   ],
   "source": [
    "fig = qqplot(female_tipr, line='r', \n",
    "            dist=stats.norm(loc=np.mean(female_tipr), \n",
    "                            scale=np.sqrt(stats.tvar(female_tipr))))"
   ]
  },
  {
   "cell_type": "markdown",
   "id": "a7fa2481-7e61-43b6-9458-ca64a02528d0",
   "metadata": {},
   "source": [
    "統計検定量 W\n",
    "\n",
    "$$\n",
    "W = \\frac{(\\sum_{i=1}^n a_i x_i)^2}{\\sum_{i=1}^n (x_i - \\bar{x})^2} \n",
    "$$"
   ]
  },
  {
   "cell_type": "markdown",
   "id": "31555c76-012a-427c-9e0a-ecf282df2d0b",
   "metadata": {},
   "source": [
    "### シャピロウィルク検定"
   ]
  },
  {
   "cell_type": "code",
   "execution_count": 86,
   "id": "5f3764d0-ee27-4197-b9ff-3e278d442a3c",
   "metadata": {},
   "outputs": [
    {
     "data": {
      "text/plain": [
       "ShapiroResult(statistic=0.7447847127914429, pvalue=3.2243281107541917e-15)"
      ]
     },
     "execution_count": 86,
     "metadata": {},
     "output_type": "execute_result"
    }
   ],
   "source": [
    "stats.shapiro(male_tipr)"
   ]
  },
  {
   "cell_type": "code",
   "execution_count": 87,
   "id": "b7dacc01-cbda-45ae-8881-2d7947b53a15",
   "metadata": {},
   "outputs": [
    {
     "data": {
      "text/plain": [
       "ShapiroResult(statistic=0.8982974290847778, pvalue=4.717996489489451e-06)"
      ]
     },
     "execution_count": 87,
     "metadata": {},
     "output_type": "execute_result"
    }
   ],
   "source": [
    "stats.shapiro(female_tipr)"
   ]
  },
  {
   "cell_type": "markdown",
   "id": "192c2585-d442-424f-ae8e-aaa728d22294",
   "metadata": {},
   "source": [
    "男女とも、p<0.05以下なので、帰無仮説を棄却できる。  \n",
    "シャピロウィルクの帰無仮説は、**母集団が正規分布に従う** (←棄却を狙っていない）  \n",
    "→このデータセットは正規分布からのデータではないと結論される。"
   ]
  },
  {
   "cell_type": "code",
   "execution_count": 91,
   "id": "638dfde7-1c6e-4c4e-95b1-4f0025e6fc6b",
   "metadata": {},
   "outputs": [],
   "source": [
    "# np.sort(male_tipr)"
   ]
  },
  {
   "cell_type": "code",
   "execution_count": 95,
   "id": "3ec43871-b15c-4271-8a38-d2cae2fad183",
   "metadata": {},
   "outputs": [
    {
     "data": {
      "text/plain": [
       "ShapiroResult(statistic=0.9931070804595947, pvalue=0.6644759774208069)"
      ]
     },
     "execution_count": 95,
     "metadata": {},
     "output_type": "execute_result"
    }
   ],
   "source": [
    "# np.sort(male_tipr)[:-1] 外れ値除去\n",
    "stats.shapiro(np.sort(male_tipr)[:-1])"
   ]
  },
  {
   "cell_type": "code",
   "execution_count": 97,
   "id": "7e91eeb1-e548-4f86-8d1c-76412eb3645a",
   "metadata": {},
   "outputs": [
    {
     "data": {
      "text/plain": [
       "ShapiroResult(statistic=0.9696651697158813, pvalue=0.04252713546156883)"
      ]
     },
     "execution_count": 97,
     "metadata": {},
     "output_type": "execute_result"
    }
   ],
   "source": [
    "stats.shapiro(np.sort(female_tipr)[:-2])"
   ]
  },
  {
   "cell_type": "markdown",
   "id": "4e67e3a3-d1e2-428b-9133-e68bcc6f170e",
   "metadata": {},
   "source": [
    "外れ値除去すると、男性はp値が大きくなり、帰無仮説を棄却できない  \n",
    "正規分布に従うという仮説を否定できなかった\n"
   ]
  },
  {
   "cell_type": "markdown",
   "id": "f08dc0f1-08a5-49fb-b2fd-b0653ee607c3",
   "metadata": {},
   "source": [
    "### F検定\n",
    "\n",
    "- 2群の等分散性の検定には、分散の比率を検定統計量に使う\n",
    "-　分散の比率も一つの確率変数になる\n",
    "- 帰無仮説: 分散に差がない\n",
    "- 対立仮説: 分散に差がある\n",
    "\n",
    "$$\n",
    "F = \\frac{s_1^{'2}}{s_2^{'2}}\n",
    "$$\n",
    "\n",
    "分散の比率の標本分布: F分布\n",
    "\n",
    "- よく得られる値: 帰無仮説（分散に差がない）は正しそう\n",
    "- 滅多に得られない値(棄却域) 帰無仮説は間違っている？（分散に差がある？）\n",
    "\n",
    "F分布\n",
    "\n",
    "- F分布は $x^2$ (観測度数が期待度数からどれくらい離れているかを計算)を使って表せる\n",
    "    -X^2とは:  (観測度数-期待度数)^2/期待度数の総和\n",
    "    - または、偏差の平方話を分散で割った値\n",
    "- 平均 $\\mu$, 分散 $\\sigma^2$ から n個($x_1, x_2, ... x_n$)取り出す\n",
    "\n",
    "$$\n",
    "F = \\frac{s_1^{'2}}{s_2^{'2}}=\\frac{\\frac{1}{n_1-1}x_1^2 \\sigma_1^2}{\\frac{1}{n_2-1}x_1^2 \\sigma_2^2} = \\frac{\\frac{1}{n_1-1}x_1^2}{\\frac{1}{n_2-1}x_1^2}\n",
    "$$\n",
    "\n",
    "- 自由度は二つある $n_1-1$と$n_2-1$\n",
    "- 大きい方の不偏分散を分子にするため、F値は1以上になる\n",
    "- p値はFより大きい方のF分布の面積\n",
    "- 棄却域に入るかどうか"
   ]
  },
  {
   "cell_type": "code",
   "execution_count": 103,
   "id": "51884325-9ea7-4af3-aeab-8d9d09b591eb",
   "metadata": {},
   "outputs": [
    {
     "data": {
      "text/plain": [
       "[<matplotlib.lines.Line2D at 0x40519847f0>]"
      ]
     },
     "execution_count": 103,
     "metadata": {},
     "output_type": "execute_result"
    },
    {
     "data": {
      "image/png": "[encoded data removed]",
      "text/plain": [
       "<Figure size 432x288 with 1 Axes>"
      ]
     },
     "metadata": {
      "needs_background": "light"
     },
     "output_type": "display_data"
    }
   ],
   "source": [
    "# stats.f(dfn, dfd) # dfn: 分子の自由度、dfd: 分母の自由度\n",
    "x = np.linspace(0,3,100)\n",
    "y = stats.f(3,3).pdf(x) # 自由度 3, 3のF分布\n",
    "plt.plot(x,y)"
   ]
  },
  {
   "cell_type": "code",
   "execution_count": 105,
   "id": "0e639e8f-38db-4b12-a020-6963e1b176be",
   "metadata": {},
   "outputs": [
    {
     "data": {
      "text/plain": [
       "<matplotlib.legend.Legend at 0x404c72e1c0>"
      ]
     },
     "execution_count": 105,
     "metadata": {},
     "output_type": "execute_result"
    },
    {
     "data": {
      "image/png": "[encoded data removed]",
      "text/plain": [
       "<Figure size 432x288 with 1 Axes>"
      ]
     },
     "metadata": {
      "needs_background": "light"
     },
     "output_type": "display_data"
    }
   ],
   "source": [
    "for dfn in range(1, 12, 5):\n",
    "    for dfd in range(1, 12, 5):\n",
    "        y = stats.f.pdf(x, dfn=dfn, dfd=dfd)\n",
    "        plt.plot(x,y, label=f'dfn:{dfn}, dfd:{dfd}')\n",
    "plt.legend()"
   ]
  },
  {
   "cell_type": "code",
   "execution_count": 106,
   "id": "754ce474-78c9-497b-8f61-7c545d62bc53",
   "metadata": {},
   "outputs": [
    {
     "name": "stdout",
     "output_type": "stream",
     "text": [
      "0.004169445577529407\n"
     ]
    }
   ],
   "source": [
    "print(np.var(male_tipr))"
   ]
  },
  {
   "cell_type": "code",
   "execution_count": 107,
   "id": "b07602be-0c1a-4c9e-ba81-4390afa5864c",
   "metadata": {},
   "outputs": [
    {
     "name": "stdout",
     "output_type": "stream",
     "text": [
      "0.0028433004255488206\n"
     ]
    }
   ],
   "source": [
    "print(np.var(female_tipr))"
   ]
  },
  {
   "cell_type": "code",
   "execution_count": 108,
   "id": "6ce5b656-517e-409d-9801-3c447d7ed145",
   "metadata": {},
   "outputs": [],
   "source": [
    "var1 = stats.tvar(male_tipr)\n",
    "var2 = stats.tvar(female_tipr)\n",
    "n1 = len(male_tipr)\n",
    "n2 = len(female_tipr)"
   ]
  },
  {
   "cell_type": "code",
   "execution_count": 109,
   "id": "bd8201b7-6a8e-49e5-b8cd-67b807a0d160",
   "metadata": {},
   "outputs": [],
   "source": [
    "dfn = n1 -1\n",
    "dfd = n2 -1"
   ]
  },
  {
   "cell_type": "code",
   "execution_count": 111,
   "id": "486d3c4c-776e-4948-862b-67632f3a6bf5",
   "metadata": {},
   "outputs": [
    {
     "name": "stdout",
     "output_type": "stream",
     "text": [
      "1.4588472200534603\n"
     ]
    }
   ],
   "source": [
    "f = var1/var2\n",
    "print(f)"
   ]
  },
  {
   "cell_type": "code",
   "execution_count": 115,
   "id": "b6f32986-7a30-423b-8522-a97fc0fda025",
   "metadata": {},
   "outputs": [
    {
     "data": {
      "text/plain": [
       "0.027100863454374447"
      ]
     },
     "execution_count": 115,
     "metadata": {},
     "output_type": "execute_result"
    }
   ],
   "source": [
    "# Fの右側の面積をsfメソッドで求める\n",
    "stats.f(dfn=dfn, dfd=dfd).sf(f)"
   ]
  },
  {
   "cell_type": "markdown",
   "id": "7b3db7f3-e699-46f2-96ad-83199f97b823",
   "metadata": {},
   "source": [
    "p<0.05 となり、帰無仮説（分散に差がない）を棄却して、分散に差があると結論できる  \n",
    "よって、これらの平均差の検定には、スチューデントのt検定(等分散であることが前提）ではなく、ウェルチのt検定（等分散でなくても使える）を実施するべき。"
   ]
  },
  {
   "cell_type": "code",
   "execution_count": 116,
   "id": "a0061986-52f3-45bb-8f52-d84a1430877b",
   "metadata": {},
   "outputs": [
    {
     "data": {
      "text/plain": [
       "[<matplotlib.lines.Line2D at 0x4059c77c40>]"
      ]
     },
     "execution_count": 116,
     "metadata": {},
     "output_type": "execute_result"
    },
    {
     "data": {
      "image/png": "[encoded data removed]",
      "text/plain": [
       "<Figure size 432x288 with 1 Axes>"
      ]
     },
     "metadata": {
      "needs_background": "light"
     },
     "output_type": "display_data"
    }
   ],
   "source": [
    "x = np.linspace(0,3,100)\n",
    "y = stats.f(dfn=dfn, dfd=dfd).pdf(x)\n",
    "plt.plot(x,y)"
   ]
  },
  {
   "cell_type": "markdown",
   "id": "d41b72b9-3ed8-4307-b723-5c509e16f7bb",
   "metadata": {},
   "source": [
    "## Section 14 対応ありの平均値差の検定(t検定）\n",
    "\n"
   ]
  },
  {
   "cell_type": "markdown",
   "id": "a63bad77-d05d-43ec-b9f3-36624b1d3b38",
   "metadata": {},
   "source": [
    "- 対応なしの場合: それぞれの母集団の平均を見る\n",
    "- 対応ありの場合: 個々のデータの変化量dを1つの標本として見て、その平均を見る。変化量の母集団からとってきた標本の平均 $\\bar{d}$ として確認する\n",
    "-　平均 $\\mu_d$, 分散 $\\frac{\\sigma_d^2 }{n}$\n",
    "  - ただし $\\mu_d$は変化量の母集団の平均、$\\frac{\\sigma_d^2 }{n}$は分散\n",
    "- 標準化する\n",
    "\n",
    "$$\n",
    "z = \\frac{\\bar{d} - \\mu_d}{\\frac{\\sigma_d}{\\sqrt{n}}}\n",
    "$$\n",
    "\n",
    "- $ \\sigma_d^2 $は不明なので、標本の変化量($\\bar{d}$)の不偏分散の平方根 s' を使う。\n",
    "\n",
    "$$\n",
    "t = \\frac{\\bar{d} - \\mu_d}{\\frac{s_d^{'}}{\\sqrt{n}}}\n",
    "$$\n",
    "\n",
    "- 帰無仮説は $\\mu_d = 0$ (差はない)であるため\n",
    "\n",
    "$$\n",
    "t = \\frac{\\bar{d}}{\\frac{s_d^{'}}{\\sqrt{n}}}\n",
    "$$\n",
    "\n",
    "ここから、自由度n-1のt分布を求める(有意水準<.05は1.96ではない（裾野が標準正規分布よりも広いため）\n"
   ]
  },
  {
   "cell_type": "markdown",
   "id": "60613e8a-d089-45b3-b9ba-22f77c690c8c",
   "metadata": {},
   "source": [
    "### 対応ありの平均値差の検定"
   ]
  },
  {
   "cell_type": "code",
   "execution_count": 119,
   "id": "acd1877a-91ba-4913-9ecb-fda0e10f720d",
   "metadata": {},
   "outputs": [],
   "source": [
    "# stats.ttest_ind(a,b) 対応なし\n",
    "# stats.ttest_rel(a,b) 対応あり　\n",
    "# a,bのペアは同じ順番になっていること"
   ]
  },
  {
   "cell_type": "code",
   "execution_count": 124,
   "id": "eca5032d-2da1-415a-966f-35a7fa9fc57d",
   "metadata": {},
   "outputs": [],
   "source": [
    "bp_df = pd.read_csv(\"./data/blood_pressure.csv\")"
   ]
  },
  {
   "cell_type": "code",
   "execution_count": 126,
   "id": "32044650-c067-479b-b3b3-38661d3046eb",
   "metadata": {},
   "outputs": [
    {
     "data": {
      "text/html": [
       "<div>\n",
       "<style scoped>\n",
       "    .dataframe tbody tr th:only-of-type {\n",
       "        vertical-align: middle;\n",
       "    }\n",
       "\n",
       "    .dataframe tbody tr th {\n",
       "        vertical-align: top;\n",
       "    }\n",
       "\n",
       "    .dataframe thead th {\n",
       "        text-align: right;\n",
       "    }\n",
       "</style>\n",
       "<table border=\"1\" class=\"dataframe\">\n",
       "  <thead>\n",
       "    <tr style=\"text-align: right;\">\n",
       "      <th></th>\n",
       "      <th>patient</th>\n",
       "      <th>sex</th>\n",
       "      <th>agegrp</th>\n",
       "      <th>bp_before</th>\n",
       "      <th>bp_after</th>\n",
       "    </tr>\n",
       "  </thead>\n",
       "  <tbody>\n",
       "    <tr>\n",
       "      <th>0</th>\n",
       "      <td>1</td>\n",
       "      <td>Male</td>\n",
       "      <td>30-45</td>\n",
       "      <td>143</td>\n",
       "      <td>153</td>\n",
       "    </tr>\n",
       "    <tr>\n",
       "      <th>1</th>\n",
       "      <td>2</td>\n",
       "      <td>Male</td>\n",
       "      <td>30-45</td>\n",
       "      <td>163</td>\n",
       "      <td>170</td>\n",
       "    </tr>\n",
       "    <tr>\n",
       "      <th>2</th>\n",
       "      <td>3</td>\n",
       "      <td>Male</td>\n",
       "      <td>30-45</td>\n",
       "      <td>153</td>\n",
       "      <td>168</td>\n",
       "    </tr>\n",
       "    <tr>\n",
       "      <th>3</th>\n",
       "      <td>4</td>\n",
       "      <td>Male</td>\n",
       "      <td>30-45</td>\n",
       "      <td>153</td>\n",
       "      <td>142</td>\n",
       "    </tr>\n",
       "    <tr>\n",
       "      <th>4</th>\n",
       "      <td>5</td>\n",
       "      <td>Male</td>\n",
       "      <td>30-45</td>\n",
       "      <td>146</td>\n",
       "      <td>141</td>\n",
       "    </tr>\n",
       "  </tbody>\n",
       "</table>\n",
       "</div>"
      ],
      "text/plain": [
       "   patient   sex agegrp  bp_before  bp_after\n",
       "0        1  Male  30-45        143       153\n",
       "1        2  Male  30-45        163       170\n",
       "2        3  Male  30-45        153       168\n",
       "3        4  Male  30-45        153       142\n",
       "4        5  Male  30-45        146       141"
      ]
     },
     "execution_count": 126,
     "metadata": {},
     "output_type": "execute_result"
    }
   ],
   "source": [
    "bp_df.head()"
   ]
  },
  {
   "cell_type": "code",
   "execution_count": 127,
   "id": "58249099-384f-43b0-a540-3eb8adcea029",
   "metadata": {},
   "outputs": [
    {
     "data": {
      "text/plain": [
       "Ttest_relResult(statistic=3.3371870510833657, pvalue=0.0011297914644840823)"
      ]
     },
     "execution_count": 127,
     "metadata": {},
     "output_type": "execute_result"
    }
   ],
   "source": [
    "a = bp_df['bp_before']\n",
    "b = bp_df['bp_after']\n",
    "# 　両側検定\n",
    "stats.ttest_rel(a,b)"
   ]
  },
  {
   "cell_type": "markdown",
   "id": "14500fd1-d0db-411b-883a-3c5f80b39a40",
   "metadata": {},
   "source": [
    "pvalue <.05であるため、差がないという帰無仮説は棄却される。よって、前後で差はあるといえる"
   ]
  },
  {
   "cell_type": "code",
   "execution_count": 132,
   "id": "71adff3e-8c44-40a3-9fdc-9fe85f54d2a7",
   "metadata": {},
   "outputs": [
    {
     "data": {
      "text/plain": [
       "Ttest_relResult(statistic=3.3371870510833657, pvalue=0.0005648957322420411)"
      ]
     },
     "execution_count": 132,
     "metadata": {},
     "output_type": "execute_result"
    }
   ],
   "source": [
    "# 片側検定 aよりもbが小さいことを確認する\n",
    "# 片側検定の場合も結論は↑と同様。\n",
    "stats.ttest_rel(a,b, alternative='greater')"
   ]
  },
  {
   "cell_type": "code",
   "execution_count": 129,
   "id": "f260376c-3a56-486e-86f8-6068937394e9",
   "metadata": {},
   "outputs": [
    {
     "data": {
      "text/plain": [
       "5.091666666666667"
      ]
     },
     "execution_count": 129,
     "metadata": {},
     "output_type": "execute_result"
    }
   ],
   "source": [
    "bp_df['delta'] = bp_df['bp_before'] - bp_df['bp_after']\n",
    "bp_df['delta'].mean()"
   ]
  },
  {
   "cell_type": "code",
   "execution_count": 130,
   "id": "3ba846e3-59dd-4b7d-90cc-1acbd8059a79",
   "metadata": {},
   "outputs": [
    {
     "name": "stderr",
     "output_type": "stream",
     "text": [
      "/opt/anaconda3/lib/python3.8/site-packages/seaborn/_decorators.py:36: FutureWarning: Pass the following variable as a keyword arg: x. From version 0.12, the only valid positional argument will be `data`, and passing other arguments without an explicit keyword will result in an error or misinterpretation.\n",
      "  warnings.warn(\n"
     ]
    },
    {
     "data": {
      "text/plain": [
       "<AxesSubplot:xlabel='delta'>"
      ]
     },
     "execution_count": 130,
     "metadata": {},
     "output_type": "execute_result"
    },
    {
     "data": {
      "image/png": "[encoded data removed]",
      "text/plain": [
       "<Figure size 432x288 with 1 Axes>"
      ]
     },
     "metadata": {
      "needs_background": "light"
     },
     "output_type": "display_data"
    }
   ],
   "source": [
    "sns.boxplot(bp_df['delta'])"
   ]
  },
  {
   "cell_type": "markdown",
   "id": "badfedf3-2ac0-40b5-8887-cb3860f3a387",
   "metadata": {},
   "source": [
    "右側にbox plotが寄っている (beforeの方がafterよりも大きいがち)"
   ]
  },
  {
   "cell_type": "code",
   "execution_count": 131,
   "id": "82570ed9-982e-467a-b2d0-6629f71b4ef4",
   "metadata": {},
   "outputs": [
    {
     "data": {
      "text/plain": [
       "<seaborn.axisgrid.FacetGrid at 0x4059cc5340>"
      ]
     },
     "execution_count": 131,
     "metadata": {},
     "output_type": "execute_result"
    },
    {
     "data": {
      "image/png": "[encoded data removed]",
      "text/plain": [
       "<Figure size 360x360 with 1 Axes>"
      ]
     },
     "metadata": {
      "needs_background": "light"
     },
     "output_type": "display_data"
    }
   ],
   "source": [
    "sns.displot(bp_df['delta'], kde=True)"
   ]
  },
  {
   "cell_type": "code",
   "execution_count": null,
   "id": "3fb3277c-7cd0-4bdf-b99b-5a1081c042d3",
   "metadata": {},
   "outputs": [],
   "source": []
  }
 ],
 "metadata": {
  "kernelspec": {
   "display_name": "Python 3",
   "language": "python",
   "name": "python3"
  },
  "language_info": {
   "codemirror_mode": {
    "name": "ipython",
    "version": 3
   },
   "file_extension": ".py",
   "mimetype": "text/x-python",
   "name": "python",
   "nbconvert_exporter": "python",
   "pygments_lexer": "ipython3",
   "version": "3.8.8"
  }
 },
 "nbformat": 4,
 "nbformat_minor": 5
}
