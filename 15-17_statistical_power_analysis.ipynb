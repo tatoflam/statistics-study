{
 "cells": [
  {
   "cell_type": "markdown",
   "id": "67360469-6bac-4d3f-bd7b-d1c56a54f34c",
   "metadata": {},
   "source": [
    "# Section15: 検定の誤りと検定力\n",
    "\n",
    "## Type 1 error とType 2 error\n",
    "\n",
    "例: 薬Aと薬Bで効果の平均に差があるか検定\n",
    "\n",
    "- 帰無仮説: 差がない\n",
    "- 対立仮説: 差がある\n",
    "\n",
    "z分布について、棄却域にあるため帰無仮説を棄却し、対立仮説を採択する(p<.05)   \n",
    "しかし、本当は効果の平均には差がない場合（本当は差がないのに、あることになってしまった）  \n",
    "→ 第1種の誤り\n",
    "\n",
    "z分布について、棄却域に入らないため、帰無仮説を棄却できず、採択した(p<.05)   \n",
    "しかし、本当は効果の平均には差がない場合（本当は差があるのに、ないことになってしまった）  \n",
    "→ 第2種の誤り\n"
   ]
  },
  {
   "cell_type": "markdown",
   "id": "5ba73770-d2e4-4120-93c7-af1a04c938a2",
   "metadata": {},
   "source": [
    "### 第一種の誤りが起こる確率\n",
    "\n",
    "→ 有意水準と同じ. \n",
    "有意水準が5%であれば、Type1 errorが起こる確率は5%.  \n",
    "\"慌てて棄却するα\"\n",
    "\n",
    "### 第二種の誤りが起こる確率\n",
    "\n",
    "- → β\n",
    "- 帰無仮説が正しいとした時の検定統計量の分布を帰無分布\n",
    "- 対立仮説が正しいとした時の検定統計量の分布を対立分布\n",
    "\n",
    "βは、対立仮説としては正しいが、棄却域に入らないケース"
   ]
  },
  {
   "cell_type": "markdown",
   "id": "1291a99c-dc3c-44f0-9421-acb17c79db92",
   "metadata": {},
   "source": [
    "### 検定力(power)\n",
    "\n",
    "\n",
    "検定力 = 1 - β  \n",
    "検定力に影響する要素\n",
    "\n",
    "- 優位水準\n",
    "- サンプルサイズ\n",
    "- 帰無分布と対立分布\n",
    "\n",
    "\n",
    "#### 有意水準\n",
    "\n",
    "有意水準(α)を上げると、棄却域が大きくなり、検定力は高くなる。  \n",
    "ただし、検定力を上げるためにαを上げるのはNG. αを上げることは、棄却しやすくなり、それだけ甘い検定になってしまう。特に理由がなければ 5%か1%を使う。\n",
    "\n",
    "#### サンプルサイズ\n",
    "\n",
    "標本を増やすと、分布の山が尖った形状になり、検定力は高くなる。  \n",
    "ただし、単純にサンプルサイズを大きくすれば良いわけではない。\n",
    "サンプルサイズが大きいと、βの値が小さくなり、検定力が高くなり有意差が出やすくなる  → 少しの差でも簡単に有意差が出てしまうのは、検定の本来の目的に反する（検定自体は\"どの程度差があるか\"は見ていないが）。\n"
   ]
  },
  {
   "cell_type": "markdown",
   "id": "22945716-4971-4e06-b627-aa0c531aed9f",
   "metadata": {},
   "source": [
    "#### 効果量\n",
    "\n",
    "効果量とは、標本の分布の差がどの程度あるか  "
   ]
  },
  {
   "cell_type": "markdown",
   "id": "41141237-b88a-4a5e-b206-f7a5a2aef91b",
   "metadata": {},
   "source": [
    "#### どのようなバランスで考えるか\n",
    "\n",
    "- 有意水準: 0.05, 0.01で固定\n",
    "- サンプルサイズ: 適切な値を設定\n",
    "- 検定力: 0.8を目指す\n",
    "- 効果量: 過去の経験や標本から仮定"
   ]
  },
  {
   "cell_type": "markdown",
   "id": "b7355fe2-2765-474b-8b6a-e133c14644eb",
   "metadata": {},
   "source": [
    "# 検定力分析(power analysis)\n",
    "\n",
    "1. 検定の結果としてp値だけd値だけでなく効果量も合わせて報告する\n",
    "  - すでに標本が手元に会って、それを検定に使うケース\n",
    "  \n",
    "2. 想定する効果量に基づいて、適切なサンプルサイズを算出する\n",
    "  - これから標本抽出から始めるケース(検定のデザイン)"
   ]
  },
  {
   "cell_type": "markdown",
   "id": "d278edb5-548e-4ff9-b8f9-10fdf6dc3c59",
   "metadata": {},
   "source": [
    "### 効果量(effect size)\n",
    "\n",
    "- 検定で明らかにしたい差の量\n",
    "- 2群の平均値差にどのくらいの差があるのかを表した量\n",
    "- 単純に $\\mu_1 - \\mu_2$ はNG. 標準化が必要。\n",
    "\n",
    "#### 標準化した効果量\n",
    "\n",
    "- $\\frac{\\mu_1 - \\mu_2}{\\sigma}$ ：平均値差が標準偏差いくつ分離れているか\n",
    "  - $\\mu_1 - \\mu_2$ の平均を推定。標本1と標本2の平均を使用\n",
    "  - $\\sigma$ 母集団1と母集団2の共通な標準偏差を推定(標本１と標本２を合わせた標準偏差（と言うより、\"不偏分散の平方根\"）を使用\n",
    "    - 不偏分散の平方根 : $\\sqrt{\\frac{(n_1-1)s_1^{'2}+(n_2-1)s_2^{'2}}{n_1+n_2-2}}$ ← studentのt検定に出てきたやつ"
   ]
  },
  {
   "cell_type": "markdown",
   "id": "03492b46-841e-4524-bce2-a0aba27f687b",
   "metadata": {},
   "source": [
    "- Cohens'd : 推定量を使い不偏分散の平方根を検定する。\n",
    "  - Cohen's d = $\\frac{\\bar{x_1}-\\bar{x_2}}{\\hat{\\sigma}}$\n",
    "  - ただし $\\hat{\\sigma} = \\sqrt{\\frac{(n_1-1)s_1^{'2}+(n_2-1)s_2^{'2}}{n_1+n_2-2}}$\n",
    "  \n",
    "効果量の目安\n",
    "\n",
    "|Cohen's d|大きさ|\n",
    "|---------|-----|\n",
    "|0.2|小|\n",
    "|0.5|中|\n",
    "|0.8|大|\n"
   ]
  },
  {
   "cell_type": "markdown",
   "id": "010415fb-5e14-4d72-bd81-fcfe346a6b8d",
   "metadata": {},
   "source": [
    "#### 例題1\n",
    "\n",
    "Cohen's dを求める。tipデータを標本とし、男女のチップ率の効果量(Cohen's d)を求める。"
   ]
  },
  {
   "cell_type": "code",
   "execution_count": 19,
   "id": "4d19437b-ad56-44ef-8718-ae7eb1ece1bf",
   "metadata": {},
   "outputs": [],
   "source": [
    "import numpy as np\n",
    "import pandas as pd\n",
    "import seaborn as sns\n",
    "from scipy import stats\n",
    "from statsmodels.stats.proportion import proportions_ztest\n",
    "from statsmodels.api import qqplot\n",
    "from statsmodels.stats.power import TTestIndPower\n",
    "import matplotlib.pyplot as plt\n",
    "%matplotlib inline"
   ]
  },
  {
   "cell_type": "code",
   "execution_count": 20,
   "id": "e772ad02-8652-42f5-90bf-5a5910948b99",
   "metadata": {},
   "outputs": [
    {
     "data": {
      "text/html": [
       "<div>\n",
       "<style scoped>\n",
       "    .dataframe tbody tr th:only-of-type {\n",
       "        vertical-align: middle;\n",
       "    }\n",
       "\n",
       "    .dataframe tbody tr th {\n",
       "        vertical-align: top;\n",
       "    }\n",
       "\n",
       "    .dataframe thead th {\n",
       "        text-align: right;\n",
       "    }\n",
       "</style>\n",
       "<table border=\"1\" class=\"dataframe\">\n",
       "  <thead>\n",
       "    <tr style=\"text-align: right;\">\n",
       "      <th></th>\n",
       "      <th>total_bill</th>\n",
       "      <th>tip</th>\n",
       "      <th>sex</th>\n",
       "      <th>smoker</th>\n",
       "      <th>day</th>\n",
       "      <th>time</th>\n",
       "      <th>size</th>\n",
       "      <th>tip_rate</th>\n",
       "    </tr>\n",
       "  </thead>\n",
       "  <tbody>\n",
       "    <tr>\n",
       "      <th>0</th>\n",
       "      <td>16.99</td>\n",
       "      <td>1.01</td>\n",
       "      <td>Female</td>\n",
       "      <td>No</td>\n",
       "      <td>Sun</td>\n",
       "      <td>Dinner</td>\n",
       "      <td>2</td>\n",
       "      <td>0.059447</td>\n",
       "    </tr>\n",
       "    <tr>\n",
       "      <th>1</th>\n",
       "      <td>10.34</td>\n",
       "      <td>1.66</td>\n",
       "      <td>Male</td>\n",
       "      <td>No</td>\n",
       "      <td>Sun</td>\n",
       "      <td>Dinner</td>\n",
       "      <td>3</td>\n",
       "      <td>0.160542</td>\n",
       "    </tr>\n",
       "    <tr>\n",
       "      <th>2</th>\n",
       "      <td>21.01</td>\n",
       "      <td>3.50</td>\n",
       "      <td>Male</td>\n",
       "      <td>No</td>\n",
       "      <td>Sun</td>\n",
       "      <td>Dinner</td>\n",
       "      <td>3</td>\n",
       "      <td>0.166587</td>\n",
       "    </tr>\n",
       "    <tr>\n",
       "      <th>3</th>\n",
       "      <td>23.68</td>\n",
       "      <td>3.31</td>\n",
       "      <td>Male</td>\n",
       "      <td>No</td>\n",
       "      <td>Sun</td>\n",
       "      <td>Dinner</td>\n",
       "      <td>2</td>\n",
       "      <td>0.139780</td>\n",
       "    </tr>\n",
       "    <tr>\n",
       "      <th>4</th>\n",
       "      <td>24.59</td>\n",
       "      <td>3.61</td>\n",
       "      <td>Female</td>\n",
       "      <td>No</td>\n",
       "      <td>Sun</td>\n",
       "      <td>Dinner</td>\n",
       "      <td>4</td>\n",
       "      <td>0.146808</td>\n",
       "    </tr>\n",
       "  </tbody>\n",
       "</table>\n",
       "</div>"
      ],
      "text/plain": [
       "   total_bill   tip     sex smoker  day    time  size  tip_rate\n",
       "0       16.99  1.01  Female     No  Sun  Dinner     2  0.059447\n",
       "1       10.34  1.66    Male     No  Sun  Dinner     3  0.160542\n",
       "2       21.01  3.50    Male     No  Sun  Dinner     3  0.166587\n",
       "3       23.68  3.31    Male     No  Sun  Dinner     2  0.139780\n",
       "4       24.59  3.61  Female     No  Sun  Dinner     4  0.146808"
      ]
     },
     "execution_count": 20,
     "metadata": {},
     "output_type": "execute_result"
    }
   ],
   "source": [
    "df = sns.load_dataset('tips')\n",
    "df['tip_rate'] = df['tip']/df['total_bill']\n",
    "df.head()"
   ]
  },
  {
   "cell_type": "code",
   "execution_count": 21,
   "id": "43ddf161-030d-40c1-9c16-7c64e45a8762",
   "metadata": {},
   "outputs": [],
   "source": [
    "female_tip_rate = df[df['sex']=='Female']['tip_rate']\n",
    "male_tip_rate = df[df['sex']== 'Male']['tip_rate']"
   ]
  },
  {
   "cell_type": "code",
   "execution_count": 22,
   "id": "bdec0e16-c7e8-42ec-a65c-dab286963ce3",
   "metadata": {},
   "outputs": [
    {
     "name": "stdout",
     "output_type": "stream",
     "text": [
      "0.002876362058404039\n",
      "0.004196172792769981\n",
      "0.16649073632892475\n",
      "0.15765054700429748\n"
     ]
    }
   ],
   "source": [
    "female_len = len(female_tip_rate)\n",
    "male_len = len(male_tip_rate)\n",
    "s_female = stats.tvar(female_tip_rate)\n",
    "s_male = stats.tvar(male_tip_rate)\n",
    "mean_female = female_tip_rate.mean()\n",
    "mean_male = male_tip_rate.mean()\n",
    "\n",
    "print(s_female)\n",
    "print(s_male)\n",
    "print(mean_female)\n",
    "print(mean_male)"
   ]
  },
  {
   "cell_type": "code",
   "execution_count": 23,
   "id": "b1e922d7-b096-443d-9fa0-d330abb3d5dd",
   "metadata": {},
   "outputs": [
    {
     "name": "stdout",
     "output_type": "stream",
     "text": [
      "0.14480153987269248\n"
     ]
    }
   ],
   "source": [
    "def cohens_d(x, y):\n",
    "    len_x = len(x)\n",
    "    len_y = len(y)\n",
    "    dof = len_x+len_y-2\n",
    "    sigma_hat = np.sqrt(((len_x-1)*stats.tvar(x)+((len_y-1)*stats.tvar(y)))/dof)\n",
    "    d = np.abs(x.mean()-y.mean())/sigma_hat\n",
    "    return d\n",
    "    \n",
    "female_tip_rate = df[df['sex']=='Female']['tip_rate']\n",
    "male_tip_rate = df[df['sex']== 'Male']['tip_rate']\n",
    "\n",
    "print(cohens_d(female_tip_rate, male_tip_rate))"
   ]
  },
  {
   "cell_type": "markdown",
   "id": "621bc2d2-02dc-41bd-95ae-defe94701d2f",
   "metadata": {},
   "source": [
    "効果量の目安から考えると、小(<0.2)なので、男女によるtip率の差はあるが、効果量は大きくない\n",
    "\n"
   ]
  },
  {
   "cell_type": "markdown",
   "id": "25a3224f-a0e3-42af-84cd-a641aaad426d",
   "metadata": {},
   "source": [
    "#### 例題2"
   ]
  },
  {
   "cell_type": "markdown",
   "id": "cadbb559-ca3a-4423-b02b-683d705336ef",
   "metadata": {},
   "source": [
    "有意水準、効果量、検定力、サンプルサイズを残りの値から算出する\n",
    "\n",
    "statsmodels.stats.power.TTestIndPowerクラス\n",
    ".solve_power()\n",
    "\n",
    "算出したいパラメータをNoneにすると、その値が返ってくる\n",
    "\n",
    "1) 検定力を求める\n",
    "tipデータセットを標本として、男女のチップ率の平均値差の検定を行った場合の検定力を求める（両側検定で有意水準0.05とする）\n",
    "2) 必要な標本の大きさを求める\n",
    "tipデータセットを標本として男女のチップ率の平均値差の検定を行う場合、検定力を0.8にするために必要なサンプルサイズを求める（両側検定で有意水準0.05とし、効果量は手元にある標本から仮定する)"
   ]
  },
  {
   "cell_type": "code",
   "execution_count": 31,
   "id": "c539bcc6-deb2-4571-b174-b2d8f7d32211",
   "metadata": {},
   "outputs": [
    {
     "data": {
      "text/plain": [
       "Ttest_indResult(statistic=1.1432770167349968, pvalue=0.2542456188927583)"
      ]
     },
     "execution_count": 31,
     "metadata": {},
     "output_type": "execute_result"
    }
   ],
   "source": [
    "female_tip_rate = df[df['sex']=='Female']['tip_rate']\n",
    "male_tip_rate = df[df['sex']== 'Male']['tip_rate']\n",
    "\n",
    "stats.ttest_ind(female_tip_rate, male_tip_rate, equal_var=False)"
   ]
  },
  {
   "cell_type": "markdown",
   "id": "3b2f9f71-e9e4-467f-8860-25c87f448c92",
   "metadata": {},
   "source": [
    "男女のTip率の平均に差があるかをt分析する（ウェルチのT検定, equal_var=False）  \n",
    "pvalue > 0.05となり、帰無仮説を棄却できない（有意差はみられない）"
   ]
  },
  {
   "cell_type": "code",
   "execution_count": 30,
   "id": "d27e3690-83ae-4006-be43-4fb16e37ebcc",
   "metadata": {},
   "outputs": [
    {
     "name": "stdout",
     "output_type": "stream",
     "text": [
      "0.19038260700802212\n"
     ]
    }
   ],
   "source": [
    "# 1) 検定力を求める\n",
    "\n",
    "effect_size = cohens_d(female_tip_rate, male_tip_rate)\n",
    "nobs1 = len(female_tip_rate)\n",
    "nobs2 = len(male_tip_rate)\n",
    "alpha = 0.05\n",
    "power = None\n",
    "ratio = nobs2/nobs1\n",
    "alternative = 'two-sided'\n",
    "\n",
    "power = TTestIndPower()\n",
    "p = power.solve_power(\n",
    "    effect_size = effect_size, \n",
    "    nobs1 = nobs1,\n",
    "    alpha = alpha,\n",
    "    power = None,\n",
    "    ratio = ratio,\n",
    "    alternative = alternative\n",
    ")\n",
    "print(p)"
   ]
  },
  {
   "cell_type": "markdown",
   "id": "2beb88d3-8bec-4b00-8baa-7096786ed4db",
   "metadata": {},
   "source": [
    "検定力は0.2未満、0.8にはほど遠い。検定力はかなり低い。"
   ]
  },
  {
   "cell_type": "code",
   "execution_count": 32,
   "id": "6a09e479-5f10-43df-a88e-2aa2f329e66d",
   "metadata": {},
   "outputs": [
    {
     "name": "stdout",
     "output_type": "stream",
     "text": [
      "582.4544465814056\n"
     ]
    }
   ],
   "source": [
    "# 2) 必要な標本の大きさを求める(検定力を0.8にするために必要なサンプルサイズ)\n",
    "size = power.solve_power(\n",
    "    effect_size = effect_size, \n",
    "    nobs1 = None,\n",
    "    alpha = alpha,\n",
    "    power = 0.8,\n",
    "    ratio = ratio,\n",
    "    alternative = alternative\n",
    ")\n",
    "print(size)"
   ]
  },
  {
   "cell_type": "markdown",
   "id": "b453ee99-7fdf-4f0d-a3e2-75cff73b0092",
   "metadata": {},
   "source": [
    "検定力0.8を保つためには、女性のサンプルサイズは582必要"
   ]
  },
  {
   "cell_type": "markdown",
   "id": "22372e19-a7de-4611-b7f4-1fdae61baec2",
   "metadata": {},
   "source": [
    "### 検定力の推移を描画する"
   ]
  },
  {
   "cell_type": "markdown",
   "id": "76674fb7-732b-45dd-a78a-c4be76cd21ad",
   "metadata": {},
   "source": [
    "statsmodels.stats.power.TTestIndPowerクラス  \n",
    ".solve_power()"
   ]
  },
  {
   "cell_type": "code",
   "execution_count": 37,
   "id": "9d2fcbcb-cffc-46f3-9eb7-ee0eef7e1eed",
   "metadata": {},
   "outputs": [
    {
     "data": {
      "image/png": "[encoded data removed]",
      "text/plain": [
       "<Figure size 432x288 with 1 Axes>"
      ]
     },
     "metadata": {
      "needs_background": "light"
     },
     "output_type": "display_data"
    }
   ],
   "source": [
    "# number of observationをX軸として、検定力の推移をみたい場合\n",
    "figs = power.plot_power(dep_var='nobs',nobs=np.array(range(5,100)), effect_size=[0.2,0.5,0.8], alpha=0.05)"
   ]
  },
  {
   "cell_type": "code",
   "execution_count": null,
   "id": "72774bda-ecde-48f3-9a40-23610b9c0a7b",
   "metadata": {},
   "outputs": [],
   "source": []
  }
 ],
 "metadata": {
  "kernelspec": {
   "display_name": "Python 3",
   "language": "python",
   "name": "python3"
  },
  "language_info": {
   "codemirror_mode": {
    "name": "ipython",
    "version": 3
   },
   "file_extension": ".py",
   "mimetype": "text/x-python",
   "name": "python",
   "nbconvert_exporter": "python",
   "pygments_lexer": "ipython3",
   "version": "3.8.8"
  }
 },
 "nbformat": 4,
 "nbformat_minor": 5
}
