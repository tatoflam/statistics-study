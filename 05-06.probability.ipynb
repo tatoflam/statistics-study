{
 "cells": [
  {
   "cell_type": "markdown",
   "id": "bb9410db-3a16-4d36-a0c9-2cb590a812b6",
   "metadata": {},
   "source": [
    "# 確率分布\n",
    "\n",
    "確率分布は\"データ生成装置\"\n",
    "\n",
    "## データ準備"
   ]
  },
  {
   "cell_type": "code",
   "execution_count": 1,
   "id": "09c3353f-7651-4b1c-a29b-d985ca526670",
   "metadata": {},
   "outputs": [],
   "source": [
    "import numpy as np\n",
    "import pandas as pd\n",
    "import seaborn as sns\n",
    "from scipy import stats\n",
    "from sklearn.preprocessing import StandardScaler \n",
    "\n",
    "import matplotlib.pyplot as plt\n",
    "%matplotlib inline"
   ]
  },
  {
   "cell_type": "code",
   "execution_count": 2,
   "id": "5a7862e3-6710-4cfb-9d6e-4c22ae10cd93",
   "metadata": {},
   "outputs": [
    {
     "data": {
      "text/html": [
       "<div>\n",
       "<style scoped>\n",
       "    .dataframe tbody tr th:only-of-type {\n",
       "        vertical-align: middle;\n",
       "    }\n",
       "\n",
       "    .dataframe tbody tr th {\n",
       "        vertical-align: top;\n",
       "    }\n",
       "\n",
       "    .dataframe thead th {\n",
       "        text-align: right;\n",
       "    }\n",
       "</style>\n",
       "<table border=\"1\" class=\"dataframe\">\n",
       "  <thead>\n",
       "    <tr style=\"text-align: right;\">\n",
       "      <th></th>\n",
       "      <th>total_bill</th>\n",
       "      <th>tip</th>\n",
       "      <th>sex</th>\n",
       "      <th>smoker</th>\n",
       "      <th>day</th>\n",
       "      <th>time</th>\n",
       "      <th>size</th>\n",
       "      <th>tip_rate</th>\n",
       "    </tr>\n",
       "  </thead>\n",
       "  <tbody>\n",
       "    <tr>\n",
       "      <th>0</th>\n",
       "      <td>16.99</td>\n",
       "      <td>1.01</td>\n",
       "      <td>Female</td>\n",
       "      <td>No</td>\n",
       "      <td>Sun</td>\n",
       "      <td>Dinner</td>\n",
       "      <td>2</td>\n",
       "      <td>0.059447</td>\n",
       "    </tr>\n",
       "    <tr>\n",
       "      <th>1</th>\n",
       "      <td>10.34</td>\n",
       "      <td>1.66</td>\n",
       "      <td>Male</td>\n",
       "      <td>No</td>\n",
       "      <td>Sun</td>\n",
       "      <td>Dinner</td>\n",
       "      <td>3</td>\n",
       "      <td>0.160542</td>\n",
       "    </tr>\n",
       "    <tr>\n",
       "      <th>2</th>\n",
       "      <td>21.01</td>\n",
       "      <td>3.50</td>\n",
       "      <td>Male</td>\n",
       "      <td>No</td>\n",
       "      <td>Sun</td>\n",
       "      <td>Dinner</td>\n",
       "      <td>3</td>\n",
       "      <td>0.166587</td>\n",
       "    </tr>\n",
       "    <tr>\n",
       "      <th>3</th>\n",
       "      <td>23.68</td>\n",
       "      <td>3.31</td>\n",
       "      <td>Male</td>\n",
       "      <td>No</td>\n",
       "      <td>Sun</td>\n",
       "      <td>Dinner</td>\n",
       "      <td>2</td>\n",
       "      <td>0.139780</td>\n",
       "    </tr>\n",
       "    <tr>\n",
       "      <th>4</th>\n",
       "      <td>24.59</td>\n",
       "      <td>3.61</td>\n",
       "      <td>Female</td>\n",
       "      <td>No</td>\n",
       "      <td>Sun</td>\n",
       "      <td>Dinner</td>\n",
       "      <td>4</td>\n",
       "      <td>0.146808</td>\n",
       "    </tr>\n",
       "    <tr>\n",
       "      <th>...</th>\n",
       "      <td>...</td>\n",
       "      <td>...</td>\n",
       "      <td>...</td>\n",
       "      <td>...</td>\n",
       "      <td>...</td>\n",
       "      <td>...</td>\n",
       "      <td>...</td>\n",
       "      <td>...</td>\n",
       "    </tr>\n",
       "    <tr>\n",
       "      <th>239</th>\n",
       "      <td>29.03</td>\n",
       "      <td>5.92</td>\n",
       "      <td>Male</td>\n",
       "      <td>No</td>\n",
       "      <td>Sat</td>\n",
       "      <td>Dinner</td>\n",
       "      <td>3</td>\n",
       "      <td>0.203927</td>\n",
       "    </tr>\n",
       "    <tr>\n",
       "      <th>240</th>\n",
       "      <td>27.18</td>\n",
       "      <td>2.00</td>\n",
       "      <td>Female</td>\n",
       "      <td>Yes</td>\n",
       "      <td>Sat</td>\n",
       "      <td>Dinner</td>\n",
       "      <td>2</td>\n",
       "      <td>0.073584</td>\n",
       "    </tr>\n",
       "    <tr>\n",
       "      <th>241</th>\n",
       "      <td>22.67</td>\n",
       "      <td>2.00</td>\n",
       "      <td>Male</td>\n",
       "      <td>Yes</td>\n",
       "      <td>Sat</td>\n",
       "      <td>Dinner</td>\n",
       "      <td>2</td>\n",
       "      <td>0.088222</td>\n",
       "    </tr>\n",
       "    <tr>\n",
       "      <th>242</th>\n",
       "      <td>17.82</td>\n",
       "      <td>1.75</td>\n",
       "      <td>Male</td>\n",
       "      <td>No</td>\n",
       "      <td>Sat</td>\n",
       "      <td>Dinner</td>\n",
       "      <td>2</td>\n",
       "      <td>0.098204</td>\n",
       "    </tr>\n",
       "    <tr>\n",
       "      <th>243</th>\n",
       "      <td>18.78</td>\n",
       "      <td>3.00</td>\n",
       "      <td>Female</td>\n",
       "      <td>No</td>\n",
       "      <td>Thur</td>\n",
       "      <td>Dinner</td>\n",
       "      <td>2</td>\n",
       "      <td>0.159744</td>\n",
       "    </tr>\n",
       "  </tbody>\n",
       "</table>\n",
       "<p>244 rows × 8 columns</p>\n",
       "</div>"
      ],
      "text/plain": [
       "     total_bill   tip     sex smoker   day    time  size  tip_rate\n",
       "0         16.99  1.01  Female     No   Sun  Dinner     2  0.059447\n",
       "1         10.34  1.66    Male     No   Sun  Dinner     3  0.160542\n",
       "2         21.01  3.50    Male     No   Sun  Dinner     3  0.166587\n",
       "3         23.68  3.31    Male     No   Sun  Dinner     2  0.139780\n",
       "4         24.59  3.61  Female     No   Sun  Dinner     4  0.146808\n",
       "..          ...   ...     ...    ...   ...     ...   ...       ...\n",
       "239       29.03  5.92    Male     No   Sat  Dinner     3  0.203927\n",
       "240       27.18  2.00  Female    Yes   Sat  Dinner     2  0.073584\n",
       "241       22.67  2.00    Male    Yes   Sat  Dinner     2  0.088222\n",
       "242       17.82  1.75    Male     No   Sat  Dinner     2  0.098204\n",
       "243       18.78  3.00  Female     No  Thur  Dinner     2  0.159744\n",
       "\n",
       "[244 rows x 8 columns]"
      ]
     },
     "execution_count": 2,
     "metadata": {},
     "output_type": "execute_result"
    }
   ],
   "source": [
    "df = sns.load_dataset('tips')\n",
    "df['tip_rate'] = df['tip']/df['total_bill']\n",
    "df"
   ]
  },
  {
   "cell_type": "markdown",
   "id": "14394a5f-5728-4382-90e2-95af5203fde3",
   "metadata": {},
   "source": [
    "## 確率分布 (Probability Distribution)\n",
    "\n",
    "- サイコロの目は全て1/6の確率(uniform distribution: 一様分布)"
   ]
  },
  {
   "cell_type": "code",
   "execution_count": 3,
   "id": "c4afcb06-83de-4765-8e07-67be8cd638eb",
   "metadata": {},
   "outputs": [
    {
     "data": {
      "text/plain": [
       "1"
      ]
     },
     "execution_count": 3,
     "metadata": {},
     "output_type": "execute_result"
    }
   ],
   "source": [
    "# random variates(rvs): 確率変量\n",
    "\n",
    "# lowからhigh-1までのランダムな整数を生成\n",
    "stats.randint.rvs(1, 7)\n",
    "stats.randint(1, 7).rvs()"
   ]
  },
  {
   "cell_type": "code",
   "execution_count": 4,
   "id": "af6853cc-adbe-4529-bbb4-4c2e427adf6f",
   "metadata": {},
   "outputs": [
    {
     "data": {
      "text/plain": [
       "0.014988305025026238"
      ]
     },
     "execution_count": 4,
     "metadata": {},
     "output_type": "execute_result"
    }
   ],
   "source": [
    "# locからloc+scaleまでのランダムな値を生成\n",
    "stats.uniform(0, 1).rvs()"
   ]
  },
  {
   "cell_type": "markdown",
   "id": "16cfb1ef-705e-41d8-8494-1aa2a2e242ac",
   "metadata": {},
   "source": [
    "### 連続型/離散型 確率変数\n",
    "\n",
    "- 離散型確率分布を表す関数を 確率質量関数 (PMF: Probability mass Function)という\n",
    "- 連続型確率分布を表す関数を 連続型確率変数 (PDF: Probability Density Function)という\n",
    "\n",
    "#### 一様分布を描画する PMF"
   ]
  },
  {
   "cell_type": "code",
   "execution_count": null,
   "id": "e73fc325-43d9-4889-a5af-6f38210d400f",
   "metadata": {},
   "outputs": [],
   "source": []
  },
  {
   "cell_type": "code",
   "execution_count": 5,
   "id": "4df9b540-881c-4c06-b61c-109eddac97e3",
   "metadata": {},
   "outputs": [
    {
     "data": {
      "text/plain": [
       "<matplotlib.collections.LineCollection at 0x404f754c40>"
      ]
     },
     "execution_count": 5,
     "metadata": {},
     "output_type": "execute_result"
    },
    {
     "data": {
      "image/png": "[encoded data removed]",
      "text/plain": [
       "<Figure size 432x288 with 1 Axes>"
      ]
     },
     "metadata": {
      "needs_background": "light"
     },
     "output_type": "display_data"
    }
   ],
   "source": [
    "# 離散型 (PMF)\n",
    "# サイコロの目が 1-6である確率は全て同じ\n",
    "x = np.arange(1,7)\n",
    "y = stats.randint(1, 7).pmf(x)\n",
    "plt.plot(x,y, 'o')\n",
    "plt.vlines(x, 0, y)"
   ]
  },
  {
   "cell_type": "markdown",
   "id": "456c188e-a825-4074-8316-864340698bb6",
   "metadata": {},
   "source": [
    "#### 一様分布を描画する PDF"
   ]
  },
  {
   "cell_type": "code",
   "execution_count": 6,
   "id": "a4214913-add3-40a8-bb98-aac8dd55359f",
   "metadata": {},
   "outputs": [
    {
     "data": {
      "text/plain": [
       "[<matplotlib.lines.Line2D at 0x40507ef100>]"
      ]
     },
     "execution_count": 6,
     "metadata": {},
     "output_type": "execute_result"
    },
    {
     "data": {
      "image/png": "[encoded data removed]",
      "text/plain": [
       "<Figure size 432x288 with 1 Axes>"
      ]
     },
     "metadata": {
      "needs_background": "light"
     },
     "output_type": "display_data"
    }
   ],
   "source": [
    "## 連続型 (PDF)\n",
    "x = np.linspace(-2, 2, 100)\n",
    "y = stats.uniform(loc=0, scale=1).pdf(x)\n",
    "plt.plot(x, y)"
   ]
  },
  {
   "cell_type": "markdown",
   "id": "e2f4e0b5-a0cc-4ab6-8574-51ef4e29b390",
   "metadata": {},
   "source": [
    "一様分布(uniform distribution)に従う確率分布であるため、0-1の間のどの値がでる確率も一様である"
   ]
  },
  {
   "cell_type": "code",
   "execution_count": 27,
   "id": "a9e0cad1-d0ec-4c0e-8e18-3c79b3d9f6a1",
   "metadata": {},
   "outputs": [
    {
     "data": {
      "text/plain": [
       "0.7404616150072956"
      ]
     },
     "execution_count": 27,
     "metadata": {},
     "output_type": "execute_result"
    }
   ],
   "source": [
    "stats.uniform(loc=0, scale=1).rvs()"
   ]
  },
  {
   "cell_type": "markdown",
   "id": "036a0563-0e3b-489f-aadf-fe2a87cf5b5d",
   "metadata": {},
   "source": [
    "確率密度関数が描く面積は確率になる。**面積**が重要。数学的には積分が必要。  \n",
    "確率密度関数が描く面積は1.  \n",
    "身長が160cm-170cmである人の確率は20%. 身長がちょうど170cmである人の確率は0%.\n",
    "\n",
    "### 累積分布関数 (Cumulative Distribution Function)\n",
    "\n",
    "確率密度関数を負の無限大からある値(x)までをつい上げた値を返す  \n",
    "その点におけるPDFの左側の面積。  \n",
    "確率の計算が簡単にできる。  \n",
    "CDFを描画することで、複数の分布の差異を比較的容易に比較できる　　\n"
   ]
  },
  {
   "cell_type": "code",
   "execution_count": 32,
   "id": "e6e434e9-727e-4368-b07a-847bdd4ccc0c",
   "metadata": {},
   "outputs": [
    {
     "data": {
      "text/plain": [
       "[<matplotlib.lines.Line2D at 0x405063f070>]"
      ]
     },
     "execution_count": 32,
     "metadata": {},
     "output_type": "execute_result"
    },
    {
     "data": {
      "image/png": "[encoded data removed]",
      "text/plain": [
       "<Figure size 432x288 with 1 Axes>"
      ]
     },
     "metadata": {
      "needs_background": "light"
     },
     "output_type": "display_data"
    }
   ],
   "source": [
    "x = np.linspace(-3, 3, 100)\n",
    "y = stats.norm.pdf(x)\n",
    "plt.plot(x, y)"
   ]
  },
  {
   "cell_type": "code",
   "execution_count": 34,
   "id": "e2053b3b-9ec2-469c-ab9e-e520eacf97c4",
   "metadata": {},
   "outputs": [
    {
     "data": {
      "text/plain": [
       "[<matplotlib.lines.Line2D at 0x40508f37f0>]"
      ]
     },
     "execution_count": 34,
     "metadata": {},
     "output_type": "execute_result"
    },
    {
     "data": {
      "image/png": "[encoded data removed]",
      "text/plain": [
       "<Figure size 432x288 with 1 Axes>"
      ]
     },
     "metadata": {
      "needs_background": "light"
     },
     "output_type": "display_data"
    }
   ],
   "source": [
    "y = stats.norm.cdf(x)\n",
    "plt.plot(x, y)"
   ]
  },
  {
   "cell_type": "code",
   "execution_count": 37,
   "id": "fa971c81-b09e-4655-9496-e90f1615401d",
   "metadata": {},
   "outputs": [
    {
     "data": {
      "text/plain": [
       "[<matplotlib.lines.Line2D at 0x4050d2e1c0>]"
      ]
     },
     "execution_count": 37,
     "metadata": {},
     "output_type": "execute_result"
    },
    {
     "data": {
      "image/png": "[encoded data removed]",
      "text/plain": [
       "<Figure size 432x288 with 1 Axes>"
      ]
     },
     "metadata": {
      "needs_background": "light"
     },
     "output_type": "display_data"
    }
   ],
   "source": [
    "## 右側の面積（sf: survival function = 1-cdf) \n",
    "y = stats.norm.sf(x)\n",
    "plt.plot(x, y)"
   ]
  },
  {
   "cell_type": "markdown",
   "id": "b4bc5a36-b46f-4aab-9823-6741e88ef7bf",
   "metadata": {},
   "source": [
    "## 正規分布\n",
    "分散: $\\sigma^2$  \n",
    "平均: $\\mu$. \n",
    "$$ N(\\mu, \\sigma^2) = \\frac{1}{\\sqrt{2\\pi\\sigma^2}} exp(-\\frac{(x-\\mu)^2}{2\\sigma^2}) $$"
   ]
  },
  {
   "cell_type": "code",
   "execution_count": 9,
   "id": "eeef77e2-8628-46bf-928e-320e8786dd36",
   "metadata": {},
   "outputs": [
    {
     "data": {
      "text/plain": [
       "7.493705751826775"
      ]
     },
     "execution_count": 9,
     "metadata": {},
     "output_type": "execute_result"
    }
   ],
   "source": [
    "# 正規分布から確率変量をランダム１つとってくる\n",
    "# 大体10付近になる\n",
    "stats.norm(loc=10, scale=3).rvs()"
   ]
  },
  {
   "cell_type": "code",
   "execution_count": 11,
   "id": "37fd4ff9-0907-4fe2-a39c-dacb17676f3d",
   "metadata": {},
   "outputs": [
    {
     "data": {
      "text/plain": [
       "[<matplotlib.lines.Line2D at 0x4050eeba60>]"
      ]
     },
     "execution_count": 11,
     "metadata": {},
     "output_type": "execute_result"
    },
    {
     "data": {
      "image/png": "[encoded data removed]",
      "text/plain": [
       "<Figure size 432x288 with 1 Axes>"
      ]
     },
     "metadata": {
      "needs_background": "light"
     },
     "output_type": "display_data"
    }
   ],
   "source": [
    "x = np.linspace(-5, 15, 100)\n",
    "y = stats.norm(loc=10, scale=3).pdf(x)\n",
    "y2 = stats.norm(loc=8, scale=3).pdf(x)\n",
    "y3 = stats.norm(loc=8, scale=1).pdf(x)\n",
    "\n",
    "plt.plot(x,y)\n",
    "plt.plot(x,y2)\n",
    "plt.plot(x,y3)"
   ]
  },
  {
   "cell_type": "code",
   "execution_count": 44,
   "id": "553cf4ec-65c1-4132-98f5-46f80f8693f6",
   "metadata": {},
   "outputs": [
    {
     "data": {
      "text/plain": [
       "[<matplotlib.lines.Line2D at 0x4052121160>]"
      ]
     },
     "execution_count": 44,
     "metadata": {},
     "output_type": "execute_result"
    },
    {
     "data": {
      "image/png": "[encoded data removed]",
      "text/plain": [
       "<Figure size 432x288 with 1 Axes>"
      ]
     },
     "metadata": {
      "needs_background": "light"
     },
     "output_type": "display_data"
    }
   ],
   "source": [
    "y = stats.norm.pdf(x)\n",
    "plt.plot(x,y)"
   ]
  },
  {
   "cell_type": "markdown",
   "id": "fab3b938-ed1d-4a93-8980-3a98b2cf8578",
   "metadata": {},
   "source": [
    "## カーネル密度推定　（KDE：Kernel Density Estimation)\n",
    "\n",
    "簡素奥下分布から確率密度関数（確率分布）を推定する  \n",
    "それぞれの値にたいする分布（カーネル）を足し合わせて計算する  \n",
    "実際の業務でも、一旦KDEを作ってからデータセットを生成することは結構多い\n"
   ]
  },
  {
   "cell_type": "code",
   "execution_count": 50,
   "id": "c15338cb-1c13-42e4-a42f-46c09fa2c401",
   "metadata": {},
   "outputs": [
    {
     "data": {
      "text/plain": [
       "[<matplotlib.lines.Line2D at 0x4052a7c5b0>]"
      ]
     },
     "execution_count": 50,
     "metadata": {},
     "output_type": "execute_result"
    },
    {
     "data": {
      "image/png": "[encoded data removed]",
      "text/plain": [
       "<Figure size 432x288 with 1 Axes>"
      ]
     },
     "metadata": {
      "needs_background": "light"
     },
     "output_type": "display_data"
    }
   ],
   "source": [
    "x = np.linspace(-3,10,100)\n",
    "y = stats.gaussian_kde([1,1,2,2,3,3,5]).pdf(x)\n",
    "plt.plot(x,y)"
   ]
  },
  {
   "cell_type": "code",
   "execution_count": 51,
   "id": "69d82da9-8776-49d0-9908-1e7023d32e9e",
   "metadata": {},
   "outputs": [
    {
     "data": {
      "text/plain": [
       "[<matplotlib.lines.Line2D at 0x4052adb220>]"
      ]
     },
     "execution_count": 51,
     "metadata": {},
     "output_type": "execute_result"
    },
    {
     "data": {
      "image/png": "[encoded data removed]",
      "text/plain": [
       "<Figure size 432x288 with 1 Axes>"
      ]
     },
     "metadata": {
      "needs_background": "light"
     },
     "output_type": "display_data"
    }
   ],
   "source": [
    "x = np.linspace(-3,10,100)\n",
    "y = stats.gaussian_kde(df['tip']).pdf(x)\n",
    "plt.plot(x,y)"
   ]
  },
  {
   "cell_type": "code",
   "execution_count": 52,
   "id": "c4a8b42d-3e71-4ce0-b0bb-950449c030d9",
   "metadata": {},
   "outputs": [
    {
     "data": {
      "text/plain": [
       "<seaborn.axisgrid.FacetGrid at 0x4052318d00>"
      ]
     },
     "execution_count": 52,
     "metadata": {},
     "output_type": "execute_result"
    },
    {
     "data": {
      "image/png": "[encoded data removed]",
      "text/plain": [
       "<Figure size 360x360 with 1 Axes>"
      ]
     },
     "metadata": {
      "needs_background": "light"
     },
     "output_type": "display_data"
    }
   ],
   "source": [
    "sns.displot(df['tip'], kde=True)"
   ]
  },
  {
   "cell_type": "markdown",
   "id": "b7349b1f-5354-40f3-8f34-7f8b11d62af2",
   "metadata": {},
   "source": [
    "df['tip']の背後にある母集団の分布を確率分布から見ることができる  \n",
    "それぞれのデータポイントにカーネルを作るので、データの境界を超えてデータを取ってしまうことがある。  \n",
    "データの上限、下限がある場合は注意。"
   ]
  },
  {
   "cell_type": "code",
   "execution_count": 55,
   "id": "9b30fd37-9152-444d-ac88-6b4db319cbac",
   "metadata": {},
   "outputs": [],
   "source": [
    "resample_data = stats.gaussian_kde(df['tip']).resample()\n",
    "# resample_data"
   ]
  },
  {
   "cell_type": "markdown",
   "id": "89b3e3dd-bbc2-4588-afa0-ea375bafbe8a",
   "metadata": {},
   "source": [
    "境界線がある場合は、ミラーリングさせる。  \n",
    "2 * (bound - data) を計算すればOK (境界をこえたものを、その絶対値分、足し合わせる）"
   ]
  },
  {
   "cell_type": "markdown",
   "id": "6395a1ea-696f-4af2-863d-994a55ada1ce",
   "metadata": {},
   "source": [
    "## 68-95-99ルール\n",
    "\n",
    "平均4, 標準偏差3の正規分布からなるランダムな値を取得する"
   ]
  },
  {
   "cell_type": "code",
   "execution_count": 13,
   "id": "0ab6ff2b-c5b4-48af-a0e1-c0f4b0181cef",
   "metadata": {},
   "outputs": [
    {
     "name": "stdout",
     "output_type": "stream",
     "text": [
      "0.678\n",
      "0.952\n",
      "0.996\n"
     ]
    }
   ],
   "source": [
    "# x = np.linspace(-6, 14, 1000)\n",
    "#y = stats.norm(loc=4, scale=3).pdf(x)\n",
    "\n",
    "\n",
    "group1 = []\n",
    "group2 = []\n",
    "group3 = []\n",
    "samples = []\n",
    "\n",
    "loc = 4\n",
    "scale = 3\n",
    "\n",
    "for _ in range(1000):\n",
    "    sample = stats.norm(loc=loc, scale=scale).rvs()\n",
    "    if loc-scale < sample < loc+scale:\n",
    "        group1.append(sample)        \n",
    "    if loc-scale*2 < sample < loc+scale*2:\n",
    "        group2.append(sample)\n",
    "    if loc-scale*3 < sample < loc+scale*3:\n",
    "        group3.append(sample)\n",
    "    samples.append(sample)\n",
    "\n",
    "print(len(group1)/len(samples))\n",
    "print(len(group2)/len(samples))\n",
    "print(len(group3)/len(samples))"
   ]
  },
  {
   "cell_type": "markdown",
   "id": "4bd0f44b-c15a-4ba6-9cfb-99ea0a22d869",
   "metadata": {},
   "source": [
    "## 標準化\n",
    "\n",
    "平均を0、標準偏差を1にするために、各値から平均を引き、標準偏差で割る\n",
    "\n",
    "## 偏差値\n",
    "\n",
    "平均を50、標準偏差を10にすること（T-score）\n",
    "\n",
    "- 50+-10: 約2/3 (60以上は上位16%)\n",
    "- 50+-20: 約95%\n",
    "- 50+-30: 約99%\n",
    "\n",
    "## 標準正規分布 (standard normal distribution)\n",
    "\n",
    "平均0, 分散1の正規分布（正規分布を標準化したもの）\n",
    "\n",
    "- +-1: 約68%\n",
    "- +-2: 約95%\n",
    "- +-3: 約99%\n"
   ]
  },
  {
   "cell_type": "code",
   "execution_count": 15,
   "id": "408d5f83-e9f9-4d2b-85b5-acdb0d8135f5",
   "metadata": {},
   "outputs": [
    {
     "data": {
      "text/plain": [
       "array([[-1.34164079,  0.4472136 ],\n",
       "       [-0.4472136 , -0.4472136 ],\n",
       "       [ 0.4472136 ,  1.34164079],\n",
       "       [ 1.34164079, -1.34164079]])"
      ]
     },
     "execution_count": 15,
     "metadata": {},
     "output_type": "execute_result"
    }
   ],
   "source": [
    "scaler = StandardScaler()\n",
    "\n",
    "# fit_Transformは２次元データを受け付ける\n",
    "scaler.fit_transform([[1,30],[2,20],[3,40],[4,10]])"
   ]
  },
  {
   "cell_type": "code",
   "execution_count": 16,
   "id": "0abe1cf4-1e81-4684-a8c5-86bc16416693",
   "metadata": {},
   "outputs": [
    {
     "data": {
      "text/plain": [
       "array([[ 46.85288695,  33.36981828],\n",
       "       [ 39.36764687,  49.95717657],\n",
       "       [ 51.377799  ,  50.94914672],\n",
       "       [ 54.38315103,  46.5507406 ],\n",
       "       [ 55.40744704,  47.70375032],\n",
       "       [ 56.19536705,  54.17363756],\n",
       "       [ 37.60045485,  61.03379478],\n",
       "       [ 57.98507107,  42.66063856],\n",
       "       [ 44.65796693,  44.99836433],\n",
       "       [ 44.36531092,  59.47315739],\n",
       "       [ 39.28885487,  50.93553526],\n",
       "       [ 67.41759917,  46.88272423],\n",
       "       [ 45.08569493,  40.3216191 ],\n",
       "       [ 48.47375097,  50.32413406],\n",
       "       [ 44.42159092,  57.02885077],\n",
       "       [ 52.01939101,  53.42053237],\n",
       "       [ 39.35639087,  50.14151189],\n",
       "       [ 46.06496694,  60.98406513],\n",
       "       [ 46.83037495,  57.45627991],\n",
       "       [ 50.97258299,  50.23381346],\n",
       "       [ 47.89969496,  60.97282376],\n",
       "       [ 50.56736699,  45.85412481],\n",
       "       [ 45.47965493,  46.81774845],\n",
       "       [ 72.10009523,  55.16606793],\n",
       "       [ 50.03833498,  49.94116426],\n",
       "       [ 47.77587896,  45.17355156],\n",
       "       [ 42.7782149 ,  48.16004664],\n",
       "       [ 42.0128069 ,  49.47525348],\n",
       "       [ 52.15446301,  56.12895542],\n",
       "       [ 49.84698298,  48.665917  ],\n",
       "       [ 38.47842286,  48.52820785],\n",
       "       [ 48.38370297,  45.9698051 ],\n",
       "       [ 44.68047893,  56.30066304],\n",
       "       [ 51.01760699,  43.04511479],\n",
       "       [ 47.74211096,  53.79214012],\n",
       "       [ 54.81087904,  48.16616736],\n",
       "       [ 46.08747894,  43.73579175],\n",
       "       [ 46.78535095,  53.36888626],\n",
       "       [ 48.76640697,  43.8951679 ],\n",
       "       [ 62.92645513,  49.8515239 ],\n",
       "       [ 45.78356694,  46.52948726],\n",
       "       [ 47.38191895,  47.48515471],\n",
       "       [ 43.41980691,  59.63290777],\n",
       "       [ 38.62475086,  45.99012678],\n",
       "       [ 61.94718311,  53.84070953],\n",
       "       [ 48.31616697,  50.52857055],\n",
       "       [ 52.75103101,  60.52041476],\n",
       "       [ 64.19838314,  54.0006288 ],\n",
       "       [ 59.86482309,  35.3973396 ],\n",
       "       [ 48.03476696,  50.90152794],\n",
       "       [ 41.84396689,  56.3267274 ],\n",
       "       [ 39.31136687,  65.07375667],\n",
       "       [ 66.91107917,  48.12620246],\n",
       "       [ 38.91740686,  49.3665092 ],\n",
       "       [ 56.49927905,  51.47570612],\n",
       "       [ 49.66688698,  53.1650116 ],\n",
       "       [ 70.51299921,  36.56601957],\n",
       "       [ 57.45603907,  32.93500302],\n",
       "       [ 40.38068688,  49.30776628],\n",
       "       [ 82.06165534,  46.49227458],\n",
       "       [ 50.56736699,  49.5739623 ],\n",
       "       [ 43.27347891,  47.37804841],\n",
       "       [ 40.13305488,  53.09625771],\n",
       "       [ 48.31616697,  57.34643039],\n",
       "       [ 47.52824696,  48.24153466],\n",
       "       [ 50.33099099,  49.35516491],\n",
       "       [ 46.24506294,  48.2524786 ],\n",
       "       [ 31.18453478,  77.06130127],\n",
       "       [ 50.49983099,  39.91824625],\n",
       "       [ 44.62419892,  46.46215549],\n",
       "       [ 41.25865489,  50.50715093],\n",
       "       [ 46.94293495,  52.4520256 ],\n",
       "       [ 57.96255907,  42.79699139],\n",
       "       [ 56.18411105,  56.06793973],\n",
       "       [ 44.30903092,  48.12172255],\n",
       "       [ 39.55899887,  43.13037834],\n",
       "       [ 47.89969496,  51.81673116],\n",
       "       [ 58.34526308,  47.74496292],\n",
       "       [ 53.34759902,  45.24301069],\n",
       "       [ 47.19056695,  49.33309471],\n",
       "       [ 49.61060698,  48.93651833],\n",
       "       [ 46.48143895,  57.10110461],\n",
       "       [ 39.06373486,  53.43336797],\n",
       "       [ 64.51355114,  48.71957357],\n",
       "       [ 45.71603094,  44.45931227],\n",
       "       [ 66.93359117,  47.97080424],\n",
       "       [ 42.3955109 ,  48.8004908 ],\n",
       "       [ 48.30491097,  59.51906867],\n",
       "       [ 55.54251904,  62.46062397],\n",
       "       [ 51.546639  ,  46.87832598],\n",
       "       [ 60.3375751 ,  40.60704424],\n",
       "       [ 53.04368702,  49.1504314 ],\n",
       "       [ 34.20114281,  52.15112759],\n",
       "       [ 46.09873494,  66.84708553],\n",
       "       [ 53.33634302,  47.05556301],\n",
       "       [ 72.94429524,  42.93598234],\n",
       "       [ 58.43531108,  47.6742034 ],\n",
       "       [ 41.26991089,  44.07446712],\n",
       "       [ 51.377799  ,  47.04440661],\n",
       "       [ 41.75391889,  43.36843538],\n",
       "       [ 40.50450288,  59.75631384],\n",
       "       [ 45.04067093,  55.62061733],\n",
       "       [ 77.59302329,  32.87540045],\n",
       "       [ 52.96489502,  49.08378862],\n",
       "       [ 51.276495  ,  55.61572178],\n",
       "       [ 45.01815893,  41.13462312],\n",
       "       [ 50.79248699,  56.12711033],\n",
       "       [ 56.10531905,  51.53707264],\n",
       "       [ 48.25988696,  57.43889329],\n",
       "       [ 43.83627892,  69.479608  ],\n",
       "       [ 43.48734291,  58.77536154],\n",
       "       [ 35.88954283,  46.24730104],\n",
       "       [ 70.58053521,  40.85549097],\n",
       "       [ 54.68706304,  41.08556125],\n",
       "       [ 56.66811906,  49.14333731],\n",
       "       [ 47.21307895,  56.79159437],\n",
       "       [ 61.41815111,  51.40986169],\n",
       "       [ 39.71658287,  46.72542784],\n",
       "       [ 41.72015089,  47.37613674],\n",
       "       [ 54.83339104,  43.5123681 ],\n",
       "       [ 40.88720688,  56.0384026 ],\n",
       "       [ 42.83449491,  44.15617917],\n",
       "       [ 43.77999892,  52.38124986],\n",
       "       [ 45.68226294,  44.18990694],\n",
       "       [ 41.77643089,  56.74693487],\n",
       "       [ 61.27182311,  46.74093754],\n",
       "       [ 37.31905484,  52.11763561],\n",
       "       [ 44.07265492,  46.2161284 ],\n",
       "       [ 40.53827088,  52.4520256 ],\n",
       "       [ 53.41513502,  39.29029772],\n",
       "       [ 49.20539097,  36.51511527],\n",
       "       [ 50.54485499,  46.52363333],\n",
       "       [ 40.30189488,  45.64960687],\n",
       "       [ 41.52879889,  50.38222686],\n",
       "       [ 48.28239896,  52.81918791],\n",
       "       [ 37.30779884,  47.71660922],\n",
       "       [ 39.35639087,  55.38308684],\n",
       "       [ 43.65618291,  46.80708671],\n",
       "       [ 45.73854294,  44.12561337],\n",
       "       [ 42.5418389 ,  57.90261058],\n",
       "       [ 47.39317496,  56.48775347],\n",
       "       [ 66.33702316,  55.66602723],\n",
       "       [ 74.09240725,  43.53307925],\n",
       "       [ 58.17642307,  53.94446492],\n",
       "       [ 46.22255094,  46.58477378],\n",
       "       [ 37.12770284,  53.09090836],\n",
       "       [ 48.71012697,  35.5872623 ],\n",
       "       [ 41.08981489,  46.14720457],\n",
       "       [ 38.73731086,  52.63984329],\n",
       "       [ 36.18219883,  67.31161959],\n",
       "       [ 43.56613491,  52.76969363],\n",
       "       [ 42.5080709 ,  48.60868178],\n",
       "       [ 47.15679895,  49.66298053],\n",
       "       [ 55.36242304,  36.98274227],\n",
       "       [ 49.98205498,  40.21456781],\n",
       "       [ 61.32810311,  51.8691218 ],\n",
       "       [ 81.94909533,  40.64702048],\n",
       "       [ 55.86894305,  48.22754286],\n",
       "       [ 42.8007269 ,  55.59814954],\n",
       "       [ 46.29008694,  43.51616964],\n",
       "       [ 51.929343  ,  50.32620446],\n",
       "       [ 41.9790389 ,  56.01667278],\n",
       "       [ 45.97491894,  43.85991159],\n",
       "       [ 43.27347891,  47.37804841],\n",
       "       [ 47.43819896,  51.72741873],\n",
       "       [ 55.32865504,  46.90261294],\n",
       "       [ 51.096399  ,  41.31986199],\n",
       "       [ 63.42171913,  46.90033389],\n",
       "       [ 39.64904687,  48.56065517],\n",
       "       [ 39.69407087,  54.48655474],\n",
       "       [ 84.92067937,  55.90826656],\n",
       "       [ 45.52467893,  56.41064571],\n",
       "       [ 35.88954283, 140.16734169],\n",
       "       [ 63.57930313,  39.99792609],\n",
       "       [ 46.66153495,  62.63550921],\n",
       "       [ 64.76118315,  39.12599719],\n",
       "       [ 47.86592696,  41.95885912],\n",
       "       [ 44.02763092,  46.27855979],\n",
       "       [ 38.53470286,  91.98145738],\n",
       "       [ 66.70847117,  40.43589049],\n",
       "       [ 66.73098317,  41.0417674 ],\n",
       "       [ 53.98919103,  63.35175951],\n",
       "       [ 78.7749033 ,  36.27903382],\n",
       "       [ 53.80909503,  69.64538616],\n",
       "       [ 73.37202324,  35.75484482],\n",
       "       [ 51.01760699,  63.26729012],\n",
       "       [ 51.253983  ,  51.09300556],\n",
       "       [ 62.01471912,  34.38925415],\n",
       "       [ 48.15858296,  55.25619338],\n",
       "       [ 53.73030302,  52.02759875],\n",
       "       [ 45.38960693,  39.30212077],\n",
       "       [ 50.02707898,  58.31982167],\n",
       "       [ 59.74100709,  38.38521979],\n",
       "       [ 45.15323093,  45.02655396],\n",
       "       [ 46.39139094,  63.20032769],\n",
       "       [ 36.23847883,  54.86876203],\n",
       "       [ 39.36764687,  55.35236429],\n",
       "       [ 76.25355927,  42.64602619],\n",
       "       [ 42.3617429 ,  48.85860894],\n",
       "       [ 42.93579891,  47.90570383],\n",
       "       [ 48.78891897,  58.69393055],\n",
       "       [ 42.0690869 ,  49.50255391],\n",
       "       [ 42.3617429 ,  48.85860894],\n",
       "       [ 46.18878294,  48.6277311 ],\n",
       "       [ 50.83751099,  55.5842425 ],\n",
       "       [ 46.26757494,  55.79382202],\n",
       "       [ 57.65864707,  44.65783063],\n",
       "       [ 71.32343122,  36.32527496],\n",
       "       [ 55.04725504,  37.33976793],\n",
       "       [ 42.0915989 ,  52.29089621],\n",
       "       [ 61.56447911,  34.53261128],\n",
       "       [ 56.87072706,  56.31732732],\n",
       "       [ 82.12919134,  54.17037552],\n",
       "       [ 42.6656549 ,  54.52726576],\n",
       "       [ 59.43709509,  61.47545002],\n",
       "       [ 42.2491829 ,  37.60704326],\n",
       "       [ 59.41458309,  41.10198862],\n",
       "       [ 40.77464688,  44.85114879],\n",
       "       [ 36.44108683,  54.14195282],\n",
       "       [ 61.65452711,  40.43741533],\n",
       "       [ 41.41623889,  53.30098196],\n",
       "       [ 42.83449491,  66.16355048],\n",
       "       [ 37.38659085,  60.33253757],\n",
       "       [ 45.71603094,  54.41894081],\n",
       "       [ 42.83449491,  42.93354743],\n",
       "       [ 46.04245494,  48.82757926],\n",
       "       [ 39.08624686,  56.13869725],\n",
       "       [ 50.74746299,  47.68596782],\n",
       "       [ 42.6769109 ,  57.22213523],\n",
       "       [ 52.62721501,  44.97863668],\n",
       "       [ 54.75459904,  37.28336948],\n",
       "       [ 45.38960693,  54.98827559],\n",
       "       [ 40.79715888,  71.52480645],\n",
       "       [ 39.85165487,  46.0109013 ],\n",
       "       [ 45.20951093,  55.3114932 ],\n",
       "       [ 39.06373486,  43.98304383],\n",
       "       [ 41.91150289,  36.63796431],\n",
       "       [ 64.68239114,  29.46337075],\n",
       "       [ 68.05919118,  45.00140909],\n",
       "       [ 60.4051111 ,  57.07572834],\n",
       "       [ 58.32275107,  35.68934191],\n",
       "       [ 53.24629502,  38.09123541],\n",
       "       [ 47.78713496,  39.72904473],\n",
       "       [ 48.86771097,  49.826378  ]])"
      ]
     },
     "execution_count": 16,
     "metadata": {},
     "output_type": "execute_result"
    }
   ],
   "source": [
    "# tip_rateを２次元配列化\n",
    "# df['tip_rate'].values.reshape(244, 1)\n",
    "# index: -1は最終項目のインデックスなので、以下でも書ける\n",
    "# df['tip_rate'].values.reshape(-1, 1)\n",
    "\n",
    "scaled = scaler.fit_transform(df['tip_rate'].values.reshape(-1, 1))\n",
    "\n",
    "# 2つ以上の項目がある場合\n",
    "scaled = scaler.fit_transform(df[['total_bill', 'tip_rate']])\n",
    "\n",
    "# 偏差値化\n",
    "scaled*10+50\n"
   ]
  },
  {
   "cell_type": "markdown",
   "id": "e46b9be2-ba31-4662-9617-342beaa1ff8b",
   "metadata": {},
   "source": [
    "## 二項分布 (Binomial Distribution)\n",
    "\n",
    "ある観察や試行を複数回行った際に、ある事象が起こる回数が従う確率分布\n",
    "\n",
    "例: 2がn回中、x回出る組み合わせは、$nCk = \\frac{n!}{x!(n-x)!}$    \n",
    "ある事象が起こる確率pの思考をn回実施して、その事象がx回起こる確率P(x)は  \n",
    "\n",
    "$ P(x) = nCxp^x q^{n-x} = \\frac{n!}{x!(n-x)!}p^x q^{n-x} $  ただしq = 1-p"
   ]
  },
  {
   "cell_type": "code",
   "execution_count": 17,
   "id": "f9f2642b-8dc9-41dd-b539-5555601c382b",
   "metadata": {},
   "outputs": [
    {
     "data": {
      "text/plain": [
       "<matplotlib.collections.LineCollection at 0x40522535e0>"
      ]
     },
     "execution_count": 17,
     "metadata": {},
     "output_type": "execute_result"
    },
    {
     "data": {
      "image/png": "[encoded data removed]",
      "text/plain": [
       "<Figure size 432x288 with 1 Axes>"
      ]
     },
     "metadata": {
      "needs_background": "light"
     },
     "output_type": "display_data"
    }
   ],
   "source": [
    "n = 3\n",
    "x = np.arange(n+1)\n",
    "y = stats.binom(n=3, p=1/6).pmf(x)\n",
    "plt.plot(x,y, 'o')\n",
    "# 0からyまでの縦線\n",
    "plt.vlines(x, 0, y)"
   ]
  },
  {
   "cell_type": "markdown",
   "id": "ffde4c77-1438-438e-b417-9e792bc05a97",
   "metadata": {},
   "source": [
    "### 二項分布と正規分布\n",
    "\n",
    "- 二項分布のnを無限大にした分布は正規分布に類似する\n",
    "  - 平均np, 分散npqの正規分布に近似できる"
   ]
  },
  {
   "cell_type": "code",
   "execution_count": 30,
   "id": "9b0f9f90-b924-41dc-a999-c88770c4014d",
   "metadata": {},
   "outputs": [
    {
     "data": {
      "text/plain": [
       "<matplotlib.collections.LineCollection at 0x40566e6a60>"
      ]
     },
     "execution_count": 30,
     "metadata": {},
     "output_type": "execute_result"
    },
    {
     "data": {
      "image/png": "[encoded data removed]",
      "text/plain": [
       "<Figure size 432x288 with 1 Axes>"
      ]
     },
     "metadata": {
      "needs_background": "light"
     },
     "output_type": "display_data"
    }
   ],
   "source": [
    "n = 100\n",
    "p = 1/6\n",
    "x = np.arange(n+1)\n",
    "y = stats.binom(n=n, p=p).pmf(x)\n",
    "plt.plot(x,y, 'o')\n",
    "# 0からyまでの縦線\n",
    "plt.vlines(x, 0, y)"
   ]
  },
  {
   "cell_type": "code",
   "execution_count": 33,
   "id": "3f832898-ecee-446a-93d9-83104710df72",
   "metadata": {},
   "outputs": [
    {
     "data": {
      "text/plain": [
       "[<matplotlib.lines.Line2D at 0x4056b3ffd0>]"
      ]
     },
     "execution_count": 33,
     "metadata": {},
     "output_type": "execute_result"
    },
    {
     "data": {
      "image/png": "[encoded data removed]",
      "text/plain": [
       "<Figure size 432x288 with 1 Axes>"
      ]
     },
     "metadata": {
      "needs_background": "light"
     },
     "output_type": "display_data"
    }
   ],
   "source": [
    "y2 = stats.norm(n*p, np.sqrt(n*p*(1-p))).pdf(x)\n",
    "plt.plot(x,y2)\n",
    "plt.plot(x,y,'o')"
   ]
  },
  {
   "cell_type": "code",
   "execution_count": 23,
   "id": "d41e0b0b-6517-433c-87ad-cc7462974f2b",
   "metadata": {},
   "outputs": [
    {
     "data": {
      "text/plain": [
       "16.666666666666664"
      ]
     },
     "execution_count": 23,
     "metadata": {},
     "output_type": "execute_result"
    }
   ],
   "source": [
    "n*p"
   ]
  },
  {
   "cell_type": "code",
   "execution_count": 24,
   "id": "39c19664-cbd3-40c2-8ef3-5f7671726c96",
   "metadata": {},
   "outputs": [
    {
     "data": {
      "text/plain": [
       "13.888888888888888"
      ]
     },
     "execution_count": 24,
     "metadata": {},
     "output_type": "execute_result"
    }
   ],
   "source": [
    "stats.binom(n,p).var()"
   ]
  },
  {
   "cell_type": "code",
   "execution_count": 25,
   "id": "c0bcf33b-a421-4c87-99e0-c0c6ed8f6b4a",
   "metadata": {},
   "outputs": [
    {
     "data": {
      "text/plain": [
       "13.888888888888888"
      ]
     },
     "execution_count": 25,
     "metadata": {},
     "output_type": "execute_result"
    }
   ],
   "source": [
    "n*p*(1-p)"
   ]
  },
  {
   "cell_type": "code",
   "execution_count": 20,
   "id": "78381f71-cf0e-433b-8597-fbcca260d165",
   "metadata": {},
   "outputs": [
    {
     "data": {
      "text/plain": [
       "<matplotlib.collections.LineCollection at 0x40548e5940>"
      ]
     },
     "execution_count": 20,
     "metadata": {},
     "output_type": "execute_result"
    },
    {
     "data": {
      "image/png": "[encoded data removed]",
      "text/plain": [
       "<Figure size 432x288 with 1 Axes>"
      ]
     },
     "metadata": {
      "needs_background": "light"
     },
     "output_type": "display_data"
    }
   ],
   "source": [
    "n = 100\n",
    "x = np.arange(n+1)\n",
    "y = stats.binom(n=100, p=1/2).pmf(x)\n",
    "plt.plot(x,y, 'o')\n",
    "# 0からyまでの縦線\n",
    "plt.vlines(x, 0, y)"
   ]
  },
  {
   "cell_type": "code",
   "execution_count": null,
   "id": "251e1f06-e229-48d4-8696-e28084cb4f70",
   "metadata": {},
   "outputs": [],
   "source": []
  }
 ],
 "metadata": {
  "kernelspec": {
   "display_name": "Python 3",
   "language": "python",
   "name": "python3"
  },
  "language_info": {
   "codemirror_mode": {
    "name": "ipython",
    "version": 3
   },
   "file_extension": ".py",
   "mimetype": "text/x-python",
   "name": "python",
   "nbconvert_exporter": "python",
   "pygments_lexer": "ipython3",
   "version": "3.8.8"
  }
 },
 "nbformat": 4,
 "nbformat_minor": 5
}
